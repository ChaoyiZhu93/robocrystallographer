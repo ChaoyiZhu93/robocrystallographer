{
 "cells": [
  {
   "cell_type": "code",
   "execution_count": 138,
   "metadata": {},
   "outputs": [],
   "source": [
    "import pandas as pd\n",
    "import numpy as np\n",
    "\n",
    "from pymatgen.ext.matproj import MPRester\n",
    "from pymatgen.analysis.aflow_prototypes import AflowPrototypeMatcher\n",
    "from pymatgen.analysis.aflow_prototypes import AFLOW_PROTOTYPE_LIBRARY\n",
    "from pymatgen.analysis.local_env import CrystalNN\n",
    "\n",
    "from matminer.featurizers.structure import SiteStatsFingerprint"
   ]
  },
  {
   "cell_type": "markdown",
   "metadata": {},
   "source": [
    "### Generate database of mineral fingerprints"
   ]
  },
  {
   "cell_type": "code",
   "execution_count": 79,
   "metadata": {},
   "outputs": [],
   "source": [
    "data = {'structure': [], 'mineral': [],\n",
    "        'pearson': [], 'aflow': [],\n",
    "        'strukturbericht': []}\n",
    "\n",
    "for d in AFLOW_PROTOTYPE_LIBRARY:\n",
    "    data['structure'].append(d['snl'].structure)\n",
    "    data['mineral'].append(d['tags']['mineral'])\n",
    "    data['pearson'].append(d['tags']['pearson'])\n",
    "    data['aflow'].append(d['tags']['aflow'])\n",
    "    data['strukturbericht'].append(d['tags']['strukturbericht'])\n",
    "\n",
    "df = pd.DataFrame(data).set_index('aflow')"
   ]
  },
  {
   "cell_type": "code",
   "execution_count": 122,
   "metadata": {},
   "outputs": [
    {
     "data": {
      "application/vnd.jupyter.widget-view+json": {
       "model_id": "1434cd35daff4eff832ded81924c3d1d",
       "version_major": 2,
       "version_minor": 0
      },
      "text/plain": [
       "HBox(children=(IntProgress(value=0, description='SiteStatsFingerprint', max=287), HTML(value='')))"
      ]
     },
     "metadata": {},
     "output_type": "display_data"
    }
   ],
   "source": [
    "ssf = SiteStatsFingerprint.from_preset('CrystalNNFingerprint_ops', stats=('mean', 'std_dev'))\n",
    "\n",
    "df = ssf.featurize_dataframe(df, 'structure', ignore_errors=True, return_errors=True)\n",
    "\n",
    "# put finger print in its own column\n",
    "df['fingerprint'] = df[ssf.feature_labels()].values.tolist()\n",
    "df = df.drop(ssf.feature_labels(), axis=1)\n",
    "\n",
    "# drop failed rows and exceptions column\n",
    "df = df[pd.isnull(df['SiteStatsFingerprint Exceptions'])]\n",
    "df = df.drop(['SiteStatsFingerprint Exceptions'], axis=1)\n",
    "\n",
    "minerals = df[df['mineral'] != '']\n",
    "\n",
    "print(\"database contains {} minerals\".format(len(minerals)))"
   ]
  },
  {
   "cell_type": "code",
   "execution_count": 199,
   "metadata": {},
   "outputs": [],
   "source": [
    "minerals['ntypesp'] = minerals['structure'].apply(lambda x: x.ntypesp)"
   ]
  },
  {
   "cell_type": "code",
   "execution_count": 200,
   "metadata": {},
   "outputs": [],
   "source": [
    "from matminer.utils.io import store_dataframe_as_json\n",
    "\n",
    "store_dataframe_as_json(minerals, 'mineral_dataframe.json.gz', compression='gz')"
   ]
  },
  {
   "cell_type": "markdown",
   "metadata": {},
   "source": [
    "### Download some structures"
   ]
  },
  {
   "cell_type": "code",
   "execution_count": 154,
   "metadata": {},
   "outputs": [],
   "source": [
    "mpr = MPRester()\n",
    "\n",
    "data = mpr.get_entry_by_material_id('mp-856', inc_structure='final')\n",
    "rutile = data.structure\n",
    "\n",
    "data = mpr.get_entry_by_material_id('mp-2534', inc_structure='final')\n",
    "gaas = data.structure\n",
    "\n",
    "data = mpr.get_entry_by_material_id('mp-4019', inc_structure='final')\n",
    "catio = data.structure\n",
    "\n",
    "data = mpr.get_entry_by_material_id('mp-23514', inc_structure='final')\n",
    "bsi = data.structure\n",
    "\n",
    "data = mpr.get_entry_by_material_id('mp-27636', inc_structure='final')\n",
    "csi = data.structure"
   ]
  },
  {
   "cell_type": "markdown",
   "metadata": {},
   "source": [
    "### Test mineral matching by AflowPrototype Matcher"
   ]
  },
  {
   "cell_type": "code",
   "execution_count": 174,
   "metadata": {},
   "outputs": [
    {
     "name": "stdout",
     "output_type": "stream",
     "text": [
      "Could not determine structure of Cs2SnI6\n"
     ]
    }
   ],
   "source": [
    "def get_aflow_match(struct):\n",
    "    formula = struct.composition.reduced_formula\n",
    "    \n",
    "    matcher = AflowPrototypeMatcher()\n",
    "    mineral_match = matcher.get_prototypes(struct)\n",
    "    \n",
    "    if mineral_match:\n",
    "        print(\"{} is {}-structured\".format(formula, mineral_match[0]['tags']['mineral']))\n",
    "    else:\n",
    "        print(\"Could not determine structure of {}\".format(formula))\n",
    "\n",
    "get_aflow_match(csi)"
   ]
  },
  {
   "cell_type": "markdown",
   "metadata": {},
   "source": [
    "### Test custom mineral matching using site fingerprint"
   ]
  },
  {
   "cell_type": "code",
   "execution_count": 180,
   "metadata": {},
   "outputs": [],
   "source": [
    "def get_closest_fingerprint(struct, n_prototypes=3,\n",
    "                            match_ntypesp=True):\n",
    "    ssf = SiteStatsFingerprint.from_preset('CrystalNNFingerprint_ops', stats=('mean', 'std_dev'))\n",
    "    fingerprint = np.array(ssf.featurize(struct))\n",
    "    \n",
    "    def get_distance(x_struct, x_fingerprint):\n",
    "        dist = np.linalg.norm(x_fingerprint - fingerprint)\n",
    "        \n",
    "        # bad match if number species different\n",
    "        if match_ntypesp:\n",
    "            sp_diff = abs(x_struct.ntypesp - struct.ntypesp) * 1000\n",
    "        else:\n",
    "            sp_diff = 0\n",
    "        return dist + sp_diff\n",
    "    \n",
    "    X = minerals.copy()\n",
    "    X['distance'] = minerals[['structure', 'fingerprint']].apply(\n",
    "        lambda x: get_distance(*x), axis=1)\n",
    "    X = X.sort_values(by='distance')\n",
    "    \n",
    "    prototypes = [{'mineral': getattr(x, 'mineral'), \n",
    "                   'distance': getattr(x, \"distance\")}\n",
    "                  for x in list(X.itertuples())[:n_prototypes]]\n",
    "    \n",
    "    return prototypes"
   ]
  },
  {
   "cell_type": "code",
   "execution_count": 175,
   "metadata": {},
   "outputs": [
    {
     "data": {
      "text/plain": [
       "[{'mineral': 'Orthorhombic Perovskite', 'distance': 1.060991692109146},\n",
       " {'mineral': 'Bergman Structure: Mg32(Al,Zn)49 Bergman',\n",
       "  'distance': 1.1175589396791292},\n",
       " {'mineral': 'Pb (Zr_0.50 Ti_0.48) O_3', 'distance': 1.1535256241846368}]"
      ]
     },
     "execution_count": 175,
     "metadata": {},
     "output_type": "execute_result"
    }
   ],
   "source": [
    "get_closest_fingerprint(csi)"
   ]
  },
  {
   "cell_type": "code",
   "execution_count": 184,
   "metadata": {},
   "outputs": [],
   "source": [
    "def get_guesses(mpid, match_ntypesp=True):\n",
    "    mpr = MPRester()\n",
    "\n",
    "    data = mpr.get_entry_by_material_id(mpid, inc_structure='final')\n",
    "    struct = data.structure\n",
    "    \n",
    "    get_aflow_match(struct)\n",
    "    \n",
    "    display(get_closest_fingerprint(struct, match_ntypesp=match_ntypesp))"
   ]
  },
  {
   "cell_type": "code",
   "execution_count": 193,
   "metadata": {},
   "outputs": [
    {
     "name": "stdout",
     "output_type": "stream",
     "text": [
      "TiO2 is Rutile-structured\n"
     ]
    },
    {
     "data": {
      "text/plain": [
       "[{'mineral': 'Rutile', 'distance': 0.02641798811622957},\n",
       " {'mineral': 'Hydrophilite', 'distance': 0.0487514575875521},\n",
       " {'mineral': 'beta Vanadium nitride', 'distance': 0.22563184557335536}]"
      ]
     },
     "metadata": {},
     "output_type": "display_data"
    }
   ],
   "source": [
    "get_guesses('mp-2657', True)"
   ]
  },
  {
   "cell_type": "markdown",
   "metadata": {},
   "source": [
    "### Site Descriptions"
   ]
  },
  {
   "cell_type": "markdown",
   "metadata": {},
   "source": [
    "SnO2 is rutile-structured and crystallises in the P4nmm space group. It is a three-dimensionally connected structure. Sn is octahedrally coordinated to 6 symmetrically equivalent O atoms. With the oxygen in turn coordinated to three symmetrically equivalent Sn atoms.\n",
    "\n",
    "From literature:\n",
    "\n",
    "\n",
    "The rutile structure (Fig. 2) is composed of distorted cation octahedra interconnected by the sharing of corner and edge O atoms. Each octahedron is elongated along an axis passing through opposite corners, resulting in two\n",
    "longer and four shorter cation-O bonds. The octahedra share edges to form octahedral chains, which run parallel\n",
    "to the c axis. Within a chain, each octahedron is positioned with its long axis perpendicular to the length of the chain. Each chain is linked to four adjacent chains by sharing corner O atoms. Adjacent chains are shifted 1/2 c and rotated 90 deg around the c axis (chain axis) relative to each other. This arrangement leaves O in trigonal planar coordination with respect to cations, with one longer and two shorter cation-O bond distances. The 0-0 distance along the shared edge within the chain is much shorter than the unshared edges of the octahedra."
   ]
  },
  {
   "cell_type": "code",
   "execution_count": 2,
   "metadata": {},
   "outputs": [
    {
     "name": "stdout",
     "output_type": "stream",
     "text": [
      "[4.16, -0.02, 0.94, 1.76, 3.77, 0.94, 0.01, 0.01, 7.34]\n",
      "['N', 'N', 'N', 'N', 'Ba', 'Ba']\n",
      "[[0.15, 0.45, 0.45], [0.55, 0.85, 0.05], [0.45, 0.15, 0.95], [0.85, 0.55, 0.55], [0.79, 0.21, 0.25], [0.21, 0.79, 0.75]]\n"
     ]
    }
   ],
   "source": [
    "# function for converting structure to code\n",
    "\n",
    "mpr = MPRester()\n",
    "\n",
    "data = mpr.get_entry_by_material_id('mp-1001', inc_structure='final')\n",
    "struct = data.structure\n",
    "flatten = lambda l: [item for sublist in l for item in sublist]\n",
    "\n",
    "print([float(\"{:.2f}\".format(x)) for x in flatten(struct.lattice.matrix)])\n",
    "print([s.name for s in struct.species])\n",
    "print([[float(\"{:.2f}\".format(x)) for x in coords] for coords in struct.frac_coords])"
   ]
  },
  {
   "cell_type": "code",
   "execution_count": 222,
   "metadata": {},
   "outputs": [],
   "source": [
    "ssf = SiteStatsFingerprint.from_preset('CrystalNNFingerprint_ops', stats=None)\n",
    "\n",
    "features = ssf.featurize(struct)"
   ]
  },
  {
   "cell_type": "code",
   "execution_count": 226,
   "metadata": {},
   "outputs": [],
   "source": [
    "from matminer.featurizers.site import CrystalNNFingerprint\n",
    "\n",
    "cnnf = CrystalNNFingerprint.from_preset(\"ops\")\n",
    "finger = dict(zip(cnnf.feature_labels(), cnnf.featurize(struct, 0)))"
   ]
  },
  {
   "cell_type": "code",
   "execution_count": 140,
   "metadata": {},
   "outputs": [],
   "source": [
    "from pymatgen.analysis.local_env import CrystalNN\n",
    "\n",
    "cnn = CrystalNN()\n",
    "#cnn.get_bonded_structure(rutile)"
   ]
  },
  {
   "cell_type": "markdown",
   "metadata": {},
   "source": [
    "### Structure fragment identifier"
   ]
  },
  {
   "cell_type": "code",
   "execution_count": 139,
   "metadata": {},
   "outputs": [
    {
     "ename": "NameError",
     "evalue": "name 'cnn' is not defined",
     "output_type": "error",
     "traceback": [
      "\u001b[0;31m---------------------------------------------------------------------------\u001b[0m",
      "\u001b[0;31mNameError\u001b[0m                                 Traceback (most recent call last)",
      "\u001b[0;32m<ipython-input-139-46f0a5c315e3>\u001b[0m in \u001b[0;36m<module>\u001b[0;34m\u001b[0m\n\u001b[1;32m      3\u001b[0m \u001b[0mdata\u001b[0m \u001b[0;34m=\u001b[0m \u001b[0mmpr\u001b[0m\u001b[0;34m.\u001b[0m\u001b[0mget_entry_by_material_id\u001b[0m\u001b[0;34m(\u001b[0m\u001b[0;34m'mp-22849'\u001b[0m\u001b[0;34m,\u001b[0m \u001b[0minc_structure\u001b[0m\u001b[0;34m=\u001b[0m\u001b[0;34m'final'\u001b[0m\u001b[0;34m)\u001b[0m\u001b[0;34m\u001b[0m\u001b[0m\n\u001b[1;32m      4\u001b[0m \u001b[0mbi\u001b[0m \u001b[0;34m=\u001b[0m \u001b[0mdata\u001b[0m\u001b[0;34m.\u001b[0m\u001b[0mstructure\u001b[0m\u001b[0;34m\u001b[0m\u001b[0m\n\u001b[0;32m----> 5\u001b[0;31m \u001b[0mbi_bonded\u001b[0m \u001b[0;34m=\u001b[0m \u001b[0mcnn\u001b[0m\u001b[0;34m.\u001b[0m\u001b[0mget_bonded_structure\u001b[0m\u001b[0;34m(\u001b[0m\u001b[0mbi\u001b[0m\u001b[0;34m)\u001b[0m\u001b[0;34m\u001b[0m\u001b[0m\n\u001b[0m\u001b[1;32m      6\u001b[0m \u001b[0mbi_bonded\u001b[0m\u001b[0;34m\u001b[0m\u001b[0m\n",
      "\u001b[0;31mNameError\u001b[0m: name 'cnn' is not defined"
     ]
    }
   ],
   "source": [
    "mpr = MPRester()\n",
    "\n",
    "data = mpr.get_entry_by_material_id('mp-22849', inc_structure='final')\n",
    "bi = data.structure\n",
    "bi_bonded = cnn.get_bonded_structure(bi)\n",
    "bi_bonded"
   ]
  },
  {
   "cell_type": "code",
   "execution_count": 141,
   "metadata": {},
   "outputs": [
    {
     "data": {
      "text/plain": [
       "[[0, 1, 2, 3, 4, 5], [6, 7]]"
      ]
     },
     "execution_count": 141,
     "metadata": {},
     "output_type": "execute_result"
    }
   ],
   "source": [
    "from pymatgen.symmetry.analyzer import SpacegroupAnalyzer\n",
    "\n",
    "sga = SpacegroupAnalyzer(bi)\n",
    "bi_sym = sga.get_symmetrized_structure()\n",
    "bi_sym.equivalent_indices"
   ]
  },
  {
   "cell_type": "markdown",
   "metadata": {},
   "source": [
    "BiI3 description:\n",
    "    \n",
    "BiI3 is Bismuth triodide structured with the R-3 spacegroup.\n",
    "It is a layered structure containing two BiI3 layers in the primitive cell.\n",
    "In each BiI3 layer, I is bonded in an L-shaped geometry to two symmetrically equivalent Bi atoms.\n",
    "Bi is bonded in an octahedral geometry to six symmetrically equivalent I atoms. In this arrangement, there are three shorter (3.10 Å) and three longer (3.13 Å) Bi–I bond lengths.\n"
   ]
  },
  {
   "cell_type": "code",
   "execution_count": 8,
   "metadata": {},
   "outputs": [],
   "source": [
    "bi_bonded.draw_graph_to_file(filename='graph.png')"
   ]
  },
  {
   "cell_type": "code",
   "execution_count": 3,
   "metadata": {},
   "outputs": [
    {
     "data": {
      "text/plain": [
       "2"
      ]
     },
     "execution_count": 3,
     "metadata": {},
     "output_type": "execute_result"
    }
   ],
   "source": [
    "from pymatgen.analysis.structure_analyzer import get_dimensionality\n",
    "\n",
    "def dimen(mp_id):\n",
    "    mpr = MPRester()\n",
    "    data = mpr.get_entry_by_material_id(mp_id, inc_structure='final')\n",
    "    struct = data.structure\n",
    "    return get_dimensionality(struct)\n",
    "    \n",
    "dimen('mp-22849')"
   ]
  },
  {
   "cell_type": "markdown",
   "metadata": {},
   "source": [
    "### First attempt at fragment finder"
   ]
  },
  {
   "cell_type": "code",
   "execution_count": 98,
   "metadata": {},
   "outputs": [],
   "source": [
    "visited_sites = set()\n",
    "\n",
    "def get_connected_sites(site_id):\n",
    "    for site in bi_bonded.get_connected_sites(site_id):\n",
    "        coords = tuple([site.site.specie.name] + list(site.site.coords))\n",
    "        if coords not in visited_sites:\n",
    "            visited_sites.add(coords)\n",
    "            if site.jimage == (0, 0, 0):\n",
    "                get_connected_sites(site.index)\n",
    "\n",
    "get_connected_sites(0)"
   ]
  },
  {
   "cell_type": "code",
   "execution_count": 99,
   "metadata": {},
   "outputs": [
    {
     "data": {
      "text/plain": [
       "{('Bi', 3.597648480628507, 2.4528338367059113, 15.43717319481898),\n",
       " ('Bi', 6.138333780628507, 8.926383896705913, 11.828199934818981),\n",
       " ('Bi', 6.764510589371494, 4.611962553294089, 13.03480508518102),\n",
       " ('Bi', 10.551922890628507, 2.452833766705911, 11.82819997481898),\n",
       " ('I', 3.7284661615606898, 3.914498653041081, 12.701611393202947),\n",
       " ('I', 6.248614494368066, 7.298300439760502, 14.502563801663667),\n",
       " ('I', 6.63369290843931, 3.1502977369589193, 15.770366886797053),\n",
       " ('I', 6.654229875631933, 6.240046010239498, 10.360441218336332),\n",
       " ('I', 7.504308736923883, 2.0406016254153276, 11.405129856124484),\n",
       " ('I', 9.812124743076119, 5.024194694584671, 13.457875203875517)}"
      ]
     },
     "execution_count": 99,
     "metadata": {},
     "output_type": "execute_result"
    }
   ],
   "source": [
    "visited_sites"
   ]
  },
  {
   "cell_type": "markdown",
   "metadata": {},
   "source": [
    "#### Create fake structure with box around fragment"
   ]
  },
  {
   "cell_type": "code",
   "execution_count": 110,
   "metadata": {},
   "outputs": [],
   "source": [
    "from pymatgen.core.structure import Structure\n",
    "from pyobb.obb import OBB\n",
    "\n",
    "box = OBB.build_from_points([x[1:] for x in visited_sites])\n",
    "\n",
    "new_bi = Structure(\n",
    "    [20, 0, 0, 0, 20, 0, 0, 0, 20], \n",
    "    [x[0] for x in visited_sites] + ['S'] * len(box.points), \n",
    "    [x[1:] for x in visited_sites] + box.points,\n",
    "    coords_are_cartesian=True\n",
    ")\n",
    "new_bi.to(fmt='cif', filename='test.cif')"
   ]
  },
  {
   "cell_type": "markdown",
   "metadata": {},
   "source": [
    "### Use fragment finger to evaluate dimensionality"
   ]
  },
  {
   "cell_type": "code",
   "execution_count": 156,
   "metadata": {},
   "outputs": [],
   "source": [
    "from pymatgen.analysis.local_env import CrystalNN\n",
    "cnn = CrystalNN()\n",
    "\n",
    "def get_dimensionality(structure):\n",
    "    bonded_struct = cnn.get_bonded_structure(structure)\n",
    "    \n",
    "    set_of_visited_sites = set()\n",
    "    \n",
    "    for i, site in enumerate(structure):\n",
    "        visited_sites = set()\n",
    "        def get_connected_sites(site_id):\n",
    "            for site in bonded_struct.get_connected_sites(site_id):\n",
    "                if site not in visited_sites:\n",
    "                    visited_sites.add(site)\n",
    "                    if site.jimage == (0, 0, 0):\n",
    "                        get_connected_sites(site.index)\n",
    "        get_connected_sites(i)\n",
    "        set_of_visited_sites.add(frozenset(visited_sites))\n",
    "\n",
    "    print(\"{} groups of connected sites\".format(len(set_of_visited_sites)))\n",
    "    \n",
    "    n_images = [len(set([site.jimage for site in visited_sites])) for visited_sites in set_of_visited_sites]\n",
    "    print(\"the sets have {} images\".format(n_images))"
   ]
  },
  {
   "cell_type": "code",
   "execution_count": 168,
   "metadata": {},
   "outputs": [
    {
     "name": "stdout",
     "output_type": "stream",
     "text": [
      "7 groups of connected sites\n",
      "the sets have [4, 3, 3, 3, 4, 2, 2] images\n"
     ]
    }
   ],
   "source": [
    "get_dimensionality(bsi)"
   ]
  },
  {
   "cell_type": "markdown",
   "metadata": {},
   "source": [
    "Obviously this does not work when you have fragments that are composed from multiple images."
   ]
  },
  {
   "cell_type": "markdown",
   "metadata": {},
   "source": [
    "### Define functions to work out which supercell image a point belongs to"
   ]
  },
  {
   "cell_type": "code",
   "execution_count": 309,
   "metadata": {},
   "outputs": [],
   "source": [
    "def point_in_lattice(lattice, point):\n",
    "    u = np.cross(lattice[1], lattice[2])\n",
    "    v = np.cross(lattice[0], lattice[2])\n",
    "    w = np.cross(lattice[0], lattice[1])\n",
    "    \n",
    "    up = np.dot(u, point)\n",
    "    vp = np.dot(v, point)\n",
    "    wp = np.dot(w, point)\n",
    "    \n",
    "    ua = np.dot(u, lattice[0])\n",
    "    vb = np.dot(v, lattice[1])\n",
    "    wc = np.dot(w, lattice[2])\n",
    "\n",
    "    if (up > min(0, ua) and up < max(0, ua) and\n",
    "        vp > min(0, vb) and vp < max(0, vb) and\n",
    "        wp > min(0, wc) and wp < max(0, wc)):\n",
    "        return True\n",
    "    else:\n",
    "        return False"
   ]
  },
  {
   "cell_type": "code",
   "execution_count": 310,
   "metadata": {},
   "outputs": [
    {
     "data": {
      "text/plain": [
       "True"
      ]
     },
     "execution_count": 310,
     "metadata": {},
     "output_type": "execute_result"
    }
   ],
   "source": [
    "point_in_lattice(bi_bonded.structure.lattice.matrix, bi_bonded.structure.cart_coords[0])"
   ]
  },
  {
   "cell_type": "code",
   "execution_count": 144,
   "metadata": {},
   "outputs": [],
   "source": [
    "def get_image(lattice, point, tol=1e-8, verbose=False):\n",
    "    u = np.cross(lattice[1], lattice[2])\n",
    "    v = np.cross(lattice[0], lattice[2])\n",
    "    w = np.cross(lattice[0], lattice[1])\n",
    "    \n",
    "    up = np.dot(u, point)\n",
    "    vp = np.dot(v, point)\n",
    "    wp = np.dot(w, point)\n",
    "    \n",
    "    ua = np.dot(u, lattice[0])\n",
    "    vb = np.dot(v, lattice[1])\n",
    "    wc = np.dot(w, lattice[2])\n",
    "    \n",
    "    div_a = up/ua \n",
    "    div_b = vp/vb \n",
    "    div_c = wp/wc\n",
    "    \n",
    "#     div_a += tol if div_a < tol else -tol\n",
    "#     div_b += tol if div_b < tol else -tol\n",
    "#     div_c += tol if div_c < tol else -tol\n",
    "    \n",
    "    if verbose:\n",
    "        print(\"div_a: {}\\tdiv_b: {}\\tdiv_c: {}\".format(div_a, div_b, div_c))\n",
    "    \n",
    "    image_a = int(np.floor(div_a)) if div_a > 0 else int(np.floor(div_a))\n",
    "    image_b = int(np.floor(div_b)) if div_b > 0 else int(np.floor(div_b))\n",
    "    image_c = int(np.floor(div_c)) if div_c > 0 else int(np.floor(div_c))\n",
    "    \n",
    "    return (image_a, image_b, image_c)"
   ]
  },
  {
   "cell_type": "code",
   "execution_count": 611,
   "metadata": {},
   "outputs": [
    {
     "name": "stdout",
     "output_type": "stream",
     "text": [
      "lattice:\n",
      "\n",
      "[[7.17107425 0.14781153 5.31350797]\n",
      " [2.75748514 6.62136166 5.31350793]\n",
      " [0.21679984 0.1478116  8.92248119]]\n",
      "\n",
      "point before: [4.53, -4.73, -2.83]\n",
      "point after: [4.53, -4.73, -2.83]\n",
      "image: (0, -1, -1)\n"
     ]
    }
   ],
   "source": [
    "bi_super = bi * (-1, -2, -2)\n",
    "lattice = bi.lattice.matrix\n",
    "point = bi_super.cart_coords[0]\n",
    "\n",
    "print(\"lattice:\\n\\n{}\\n\".format(lattice))\n",
    "print(\"point before: {}\".format([float(\"{:.2f}\".format(x)) for x in point]))\n",
    "\n",
    "# point[0] += 10\n",
    "\n",
    "print(\"point after: {}\".format([float(\"{:.2f}\".format(x)) for x in point]))\n",
    "\n",
    "print(\"image: {}\".format(get_image(lattice, point)))"
   ]
  },
  {
   "cell_type": "markdown",
   "metadata": {},
   "source": [
    "### Second fragment finger attempt"
   ]
  },
  {
   "cell_type": "code",
   "execution_count": 151,
   "metadata": {},
   "outputs": [],
   "source": [
    "from itertools import combinations\n",
    "def calc_dimensionality(list_images, verbose=False):\n",
    "    directions = (\n",
    "        ((0, 1, 1), (2, 1, 1)),  # along x\n",
    "        ((1, 0, 1), (1, 2, 1)),  # along y\n",
    "        ((1, 1, 0), (1, 1, 2)),  # along z\n",
    "        \n",
    "        ((0, 0, 1), (2, 2, 1)),  # along xy  \n",
    "        ((0, 1, 0), (2, 1, 2)),  # along xz\n",
    "        ((1, 0, 0), (1, 2, 2)),  # along yz\n",
    "        \n",
    "        ((0, 0, 0), (2, 2, 2)),   # along xyz\n",
    "    )\n",
    "    \n",
    "    spans = [x in list_images and y in list_images\n",
    "             for x, y in directions]\n",
    "    n_spans = spans.count(True)\n",
    "#     print(list_images)\n",
    "    \n",
    "    def reverse(image):\n",
    "        r = []\n",
    "        for i in image:\n",
    "            if i == 1:\n",
    "                r.append(1)\n",
    "            elif i == 0:\n",
    "                r.append(2)\n",
    "            else:\n",
    "                r.append(0)\n",
    "        r = tuple(r)\n",
    "        if r == image:\n",
    "            return False\n",
    "        else:\n",
    "            return r\n",
    "        \n",
    "    n_reversed = len([x for x in list_images\n",
    "                      if lookup[x] is not None and lookup[x] in list_images]) / 2\n",
    "\n",
    "    # get number of corner images\n",
    "    # if more than 2 then cannot be 1D\n",
    "    n_corners = len([x for x in list_images\n",
    "                     if (2 in x or 0 in x) and 1 not in x])\n",
    "    if verbose:\n",
    "        print(\"n_corners: {}\\tn_spans: {}\\tn_reversed: {}\".format(n_corners, n_spans, n_reversed))\n",
    "#     if n_corners == 8:\n",
    "#         dimensionality = 3\n",
    "#     elif n_corners > 2 or n_spans > 1:\n",
    "#         dimensionality = 2\n",
    "#     elif n_spans > 0:\n",
    "#         dimensionality = 1\n",
    "#     else:\n",
    "#         dimensionality = 0\n",
    "\n",
    "    if n_reversed > 5:\n",
    "        dimensionality = 3\n",
    "    elif n_reversed > 1:\n",
    "        dimensionality = 2\n",
    "    elif n_reversed == 1:\n",
    "        dimensionality = 1\n",
    "    else:\n",
    "        dimensionality = 0\n",
    "    return dimensionality\n",
    "\n",
    "def get_dimensionality(structure, verbose=False):\n",
    "\n",
    "    sites_to_translate = [i for i, site in enumerate(structure)\n",
    "                          if 0 in site.frac_coords or 1 in site.frac_coords]\n",
    "#     print(sites_to_translate)\n",
    "    structure.translate_sites(sites_to_translate, [1e-8, 1e-8, 1e-8], frac_coords=False)\n",
    "    bonded_struct = cnn.get_bonded_structure(structure)\n",
    "    supercell = bonded_struct * (3, 3, 3)\n",
    "\n",
    "    set_of_visited_sites = set()\n",
    "    all_visited_sites = set()\n",
    "    fragments = []\n",
    "    for i, site in enumerate(supercell.structure):\n",
    "        visited_sites = set()\n",
    "        \n",
    "        def get_connected_sites(site_id):\n",
    "            for site in supercell.get_connected_sites(site_id):\n",
    "                coords = tuple(site.site.coords)\n",
    "                if (coords not in visited_sites and \n",
    "                        coords not in all_visited_sites and\n",
    "                        site.jimage == (0, 0, 0)): \n",
    "                    \n",
    "                    visited_sites.add(coords)\n",
    "                    all_visited_sites.add(coords)\n",
    "                    get_connected_sites(site.index)\n",
    "\n",
    "        get_connected_sites(i)\n",
    "        site_images = [get_image(structure.lattice.matrix, site)\n",
    "                       for site in visited_sites]\n",
    "        \n",
    "        # if the fragment is bonded to the central image, store the fragment\n",
    "        if (any([image == (1, 1, 1) for image in site_images]) and\n",
    "            frozenset(visited_sites) not in set_of_visited_sites):\n",
    "            \n",
    "            set_of_visited_sites.add(frozenset(visited_sites))\n",
    "            \n",
    "            dimensionality = calc_dimensionality(set(site_images), verbose=verbose)\n",
    "            \n",
    "            fragments.append({'atoms': frozenset(visited_sites),\n",
    "                              'dimensionality': dimensionality})\n",
    "\n",
    "\n",
    "    n_atoms = [len(fragment['atoms']) for fragment in fragments]\n",
    "    dimen = [fragment['dimensionality'] for fragment in fragments]\n",
    "    \n",
    "    if verbose:\n",
    "        print(\"{} groups of connected sites\".format(len(set_of_visited_sites)))\n",
    "        print(\"the sets have: {} atoms\\nwith dimensionality: {}\".format(n_atoms, dimen))\n",
    "        \n",
    "    return max(dimen), fragments\n",
    "\n",
    "# get_dimensionality(catio, verbose=True)\n"
   ]
  },
  {
   "cell_type": "code",
   "execution_count": 153,
   "metadata": {},
   "outputs": [],
   "source": [
    "dimen , fragments = get_dimensionality(bi)"
   ]
  },
  {
   "cell_type": "code",
   "execution_count": 143,
   "metadata": {},
   "outputs": [
    {
     "ename": "NameError",
     "evalue": "name 'get_image' is not defined",
     "output_type": "error",
     "traceback": [
      "\u001b[0;31m---------------------------------------------------------------------------\u001b[0m",
      "\u001b[0;31mNameError\u001b[0m                                 Traceback (most recent call last)",
      "\u001b[0;32m<ipython-input-143-2ce89f3bcf98>\u001b[0m in \u001b[0;36m<module>\u001b[0;34m\u001b[0m\n\u001b[1;32m      5\u001b[0m     \u001b[0;32mreturn\u001b[0m \u001b[0mget_dimensionality\u001b[0m\u001b[0;34m(\u001b[0m\u001b[0mstruct\u001b[0m\u001b[0;34m,\u001b[0m \u001b[0mverbose\u001b[0m\u001b[0;34m=\u001b[0m\u001b[0;32mTrue\u001b[0m\u001b[0;34m)\u001b[0m\u001b[0;34m\u001b[0m\u001b[0m\n\u001b[1;32m      6\u001b[0m \u001b[0;34m\u001b[0m\u001b[0m\n\u001b[0;32m----> 7\u001b[0;31m \u001b[0mdimen\u001b[0m\u001b[0;34m(\u001b[0m\u001b[0;34m'mp-11227'\u001b[0m\u001b[0;34m)\u001b[0m\u001b[0;34m\u001b[0m\u001b[0m\n\u001b[0m",
      "\u001b[0;32m<ipython-input-143-2ce89f3bcf98>\u001b[0m in \u001b[0;36mdimen\u001b[0;34m(mp_id)\u001b[0m\n\u001b[1;32m      3\u001b[0m     \u001b[0mdata\u001b[0m \u001b[0;34m=\u001b[0m \u001b[0mmpr\u001b[0m\u001b[0;34m.\u001b[0m\u001b[0mget_entry_by_material_id\u001b[0m\u001b[0;34m(\u001b[0m\u001b[0mmp_id\u001b[0m\u001b[0;34m,\u001b[0m \u001b[0minc_structure\u001b[0m\u001b[0;34m=\u001b[0m\u001b[0;34m'final'\u001b[0m\u001b[0;34m)\u001b[0m\u001b[0;34m\u001b[0m\u001b[0m\n\u001b[1;32m      4\u001b[0m     \u001b[0mstruct\u001b[0m \u001b[0;34m=\u001b[0m \u001b[0mdata\u001b[0m\u001b[0;34m.\u001b[0m\u001b[0mstructure\u001b[0m\u001b[0;34m\u001b[0m\u001b[0m\n\u001b[0;32m----> 5\u001b[0;31m     \u001b[0;32mreturn\u001b[0m \u001b[0mget_dimensionality\u001b[0m\u001b[0;34m(\u001b[0m\u001b[0mstruct\u001b[0m\u001b[0;34m,\u001b[0m \u001b[0mverbose\u001b[0m\u001b[0;34m=\u001b[0m\u001b[0;32mTrue\u001b[0m\u001b[0;34m)\u001b[0m\u001b[0;34m\u001b[0m\u001b[0m\n\u001b[0m\u001b[1;32m      6\u001b[0m \u001b[0;34m\u001b[0m\u001b[0m\n\u001b[1;32m      7\u001b[0m \u001b[0mdimen\u001b[0m\u001b[0;34m(\u001b[0m\u001b[0;34m'mp-11227'\u001b[0m\u001b[0;34m)\u001b[0m\u001b[0;34m\u001b[0m\u001b[0m\n",
      "\u001b[0;32m<ipython-input-135-604890d77f0a>\u001b[0m in \u001b[0;36mget_dimensionality\u001b[0;34m(structure, verbose)\u001b[0m\n\u001b[1;32m     89\u001b[0m         \u001b[0mget_connected_sites\u001b[0m\u001b[0;34m(\u001b[0m\u001b[0mi\u001b[0m\u001b[0;34m)\u001b[0m\u001b[0;34m\u001b[0m\u001b[0m\n\u001b[1;32m     90\u001b[0m         site_images = [get_image(structure.lattice.matrix, site)\n\u001b[0;32m---> 91\u001b[0;31m                        for site in visited_sites]\n\u001b[0m\u001b[1;32m     92\u001b[0m \u001b[0;34m\u001b[0m\u001b[0m\n\u001b[1;32m     93\u001b[0m         \u001b[0;31m# if the fragment is bonded to the central image, store the fragment\u001b[0m\u001b[0;34m\u001b[0m\u001b[0;34m\u001b[0m\u001b[0m\n",
      "\u001b[0;32m<ipython-input-135-604890d77f0a>\u001b[0m in \u001b[0;36m<listcomp>\u001b[0;34m(.0)\u001b[0m\n\u001b[1;32m     89\u001b[0m         \u001b[0mget_connected_sites\u001b[0m\u001b[0;34m(\u001b[0m\u001b[0mi\u001b[0m\u001b[0;34m)\u001b[0m\u001b[0;34m\u001b[0m\u001b[0m\n\u001b[1;32m     90\u001b[0m         site_images = [get_image(structure.lattice.matrix, site)\n\u001b[0;32m---> 91\u001b[0;31m                        for site in visited_sites]\n\u001b[0m\u001b[1;32m     92\u001b[0m \u001b[0;34m\u001b[0m\u001b[0m\n\u001b[1;32m     93\u001b[0m         \u001b[0;31m# if the fragment is bonded to the central image, store the fragment\u001b[0m\u001b[0;34m\u001b[0m\u001b[0;34m\u001b[0m\u001b[0m\n",
      "\u001b[0;31mNameError\u001b[0m: name 'get_image' is not defined"
     ]
    }
   ],
   "source": [
    "def dimen(mp_id):\n",
    "    mpr = MPRester()\n",
    "    data = mpr.get_entry_by_material_id(mp_id, inc_structure='final')\n",
    "    struct = data.structure\n",
    "    return get_dimensionality(struct, verbose=True)\n",
    "    \n",
    "dimen('mp-11227')"
   ]
  },
  {
   "cell_type": "markdown",
   "metadata": {},
   "source": [
    "Works much better. Now lets compare to the other dimensionality to calculator and see what changes."
   ]
  },
  {
   "cell_type": "markdown",
   "metadata": {},
   "source": [
    "### Compare dimensionality methods"
   ]
  },
  {
   "cell_type": "code",
   "execution_count": 539,
   "metadata": {},
   "outputs": [
    {
     "name": "stdout",
     "output_type": "stream",
     "text": [
      "Fetching elastic_tensor_2015.json.gz from https://ndownloader.figshare.com/files/13220603 to /Users/alexganose/dev/matminer/matminer/datasets/elastic_tensor_2015.json.gz\n"
     ]
    }
   ],
   "source": [
    "from matminer.datasets import load_dataset, available_datasets\n",
    "\n",
    "df = load_dataset('elastic_tensor_2015')"
   ]
  },
  {
   "cell_type": "code",
   "execution_count": 681,
   "metadata": {},
   "outputs": [],
   "source": [
    "from matminer.featurizers.base import BaseFeaturizer\n",
    "\n",
    "class NewDimensionality(BaseFeaturizer):\n",
    "\n",
    "    def featurize(self, s):\n",
    "        return [get_dimensionality(s)]\n",
    "\n",
    "    def feature_labels(self):\n",
    "        return [\"new_dimensionality_five\"]\n",
    "\n",
    "    def citations(self):\n",
    "        return [\"me\"]\n",
    "    \n",
    "    def implementors(self):\n",
    "        return [\"me\"]"
   ]
  },
  {
   "cell_type": "code",
   "execution_count": 675,
   "metadata": {},
   "outputs": [
    {
     "data": {
      "application/vnd.jupyter.widget-view+json": {
       "model_id": "1ac91bc0cd5045b5bb3f2f022cc44c23",
       "version_major": 2,
       "version_minor": 0
      },
      "text/plain": [
       "HBox(children=(IntProgress(value=0, description='Dimensionality', max=1181, style=ProgressStyle(description_wi…"
      ]
     },
     "metadata": {},
     "output_type": "display_data"
    }
   ],
   "source": [
    "from matminer.featurizers.structure import Dimensionality\n",
    "\n",
    "X = df\n",
    "d = Dimensionality()\n",
    "X = d.featurize_dataframe(X, 'structure')\n"
   ]
  },
  {
   "cell_type": "code",
   "execution_count": 682,
   "metadata": {},
   "outputs": [
    {
     "data": {
      "application/vnd.jupyter.widget-view+json": {
       "model_id": "5eb302fe9de543d1ad9ee2f70cebaff0",
       "version_major": 2,
       "version_minor": 0
      },
      "text/plain": [
       "HBox(children=(IntProgress(value=0, description='NewDimensionality', max=1181, style=ProgressStyle(description…"
      ]
     },
     "metadata": {},
     "output_type": "display_data"
    }
   ],
   "source": [
    "nd = NewDimensionality()\n",
    "# X = X.drop(columns=['NewDimensionality Exceptions'])\n",
    "\n",
    "X = nd.featurize_dataframe(X, 'structure', return_errors=True, ignore_errors=True)"
   ]
  },
  {
   "cell_type": "code",
   "execution_count": 697,
   "metadata": {},
   "outputs": [
    {
     "name": "stderr",
     "output_type": "stream",
     "text": [
      "/Users/alexganose/miniconda3/envs/common_env3/lib/python3.6/site-packages/ipykernel_launcher.py:1: UserWarning:\n",
      "\n",
      "Boolean Series key will be reindexed to match DataFrame index.\n",
      "\n"
     ]
    },
    {
     "data": {
      "text/html": [
       "<div>\n",
       "<style scoped>\n",
       "    .dataframe tbody tr th:only-of-type {\n",
       "        vertical-align: middle;\n",
       "    }\n",
       "\n",
       "    .dataframe tbody tr th {\n",
       "        vertical-align: top;\n",
       "    }\n",
       "\n",
       "    .dataframe thead th {\n",
       "        text-align: right;\n",
       "    }\n",
       "</style>\n",
       "<table border=\"1\" class=\"dataframe\">\n",
       "  <thead>\n",
       "    <tr style=\"text-align: right;\">\n",
       "      <th></th>\n",
       "      <th>material_id</th>\n",
       "      <th>formula</th>\n",
       "      <th>nsites</th>\n",
       "      <th>space_group</th>\n",
       "      <th>volume</th>\n",
       "      <th>structure</th>\n",
       "      <th>elastic_anisotropy</th>\n",
       "      <th>G_Reuss</th>\n",
       "      <th>G_VRH</th>\n",
       "      <th>G_Voigt</th>\n",
       "      <th>K_Reuss</th>\n",
       "      <th>K_VRH</th>\n",
       "      <th>K_Voigt</th>\n",
       "      <th>poisson_ratio</th>\n",
       "      <th>compliance_tensor</th>\n",
       "      <th>elastic_tensor</th>\n",
       "      <th>elastic_tensor_original</th>\n",
       "      <th>dimensionality</th>\n",
       "      <th>new_dimensionality_five</th>\n",
       "      <th>NewDimensionality Exceptions</th>\n",
       "    </tr>\n",
       "  </thead>\n",
       "  <tbody>\n",
       "    <tr>\n",
       "      <th>220</th>\n",
       "      <td>mp-12693</td>\n",
       "      <td>Mg2Rh</td>\n",
       "      <td>6</td>\n",
       "      <td>139</td>\n",
       "      <td>104.037774</td>\n",
       "      <td>[[1.610584   1.610584   1.44491864] Mg, [1.610...</td>\n",
       "      <td>2.652374</td>\n",
       "      <td>32.308637</td>\n",
       "      <td>39.872414</td>\n",
       "      <td>47.436190</td>\n",
       "      <td>56.677736</td>\n",
       "      <td>65.498864</td>\n",
       "      <td>74.319991</td>\n",
       "      <td>0.246969</td>\n",
       "      <td>[[0.010921486472281, -0.000591462431469, -0.00...</td>\n",
       "      <td>[[142.66357192180826, 55.80244217677537, 53.76...</td>\n",
       "      <td>[[142.66357192180826, 55.80244217677537, 53.76...</td>\n",
       "      <td>2</td>\n",
       "      <td>0</td>\n",
       "      <td>NaN</td>\n",
       "    </tr>\n",
       "    <tr>\n",
       "      <th>294</th>\n",
       "      <td>mp-140</td>\n",
       "      <td>Ga</td>\n",
       "      <td>2</td>\n",
       "      <td>139</td>\n",
       "      <td>37.905223</td>\n",
       "      <td>[[0. 0. 0.] Ga, [1.449379 1.449379 2.255512] Ga]</td>\n",
       "      <td>2.167179</td>\n",
       "      <td>5.214681</td>\n",
       "      <td>6.344549</td>\n",
       "      <td>7.474418</td>\n",
       "      <td>49.354685</td>\n",
       "      <td>49.366337</td>\n",
       "      <td>49.377988</td>\n",
       "      <td>0.438380</td>\n",
       "      <td>[[0.030860676289136003, -0.001764103354717, -0...</td>\n",
       "      <td>[[66.5429709675885, 35.89134302865806, 45.0049...</td>\n",
       "      <td>[[66.5429709675885, 35.89134302865806, 45.0049...</td>\n",
       "      <td>2</td>\n",
       "      <td>3</td>\n",
       "      <td>NaN</td>\n",
       "    </tr>\n",
       "    <tr>\n",
       "      <th>339</th>\n",
       "      <td>mp-16245</td>\n",
       "      <td>CaSbAu</td>\n",
       "      <td>6</td>\n",
       "      <td>194</td>\n",
       "      <td>157.686141</td>\n",
       "      <td>[[0. 0. 0.] Ca, [0.        0.        4.1252335...</td>\n",
       "      <td>1.019603</td>\n",
       "      <td>22.144912</td>\n",
       "      <td>23.743349</td>\n",
       "      <td>25.341785</td>\n",
       "      <td>46.396264</td>\n",
       "      <td>53.304561</td>\n",
       "      <td>60.212859</td>\n",
       "      <td>0.306079</td>\n",
       "      <td>[[0.011809009603428, -0.0064479312355170005, -...</td>\n",
       "      <td>[[127.69461808494853, 72.7215713935361, 20.715...</td>\n",
       "      <td>[[127.69461808494853, 72.7215713935361, 20.715...</td>\n",
       "      <td>2</td>\n",
       "      <td>3</td>\n",
       "      <td>NaN</td>\n",
       "    </tr>\n",
       "    <tr>\n",
       "      <th>341</th>\n",
       "      <td>mp-16266</td>\n",
       "      <td>CaZnSi</td>\n",
       "      <td>6</td>\n",
       "      <td>194</td>\n",
       "      <td>128.270974</td>\n",
       "      <td>[[0.       0.       4.126327] Ca, [0. 0. 0.] C...</td>\n",
       "      <td>0.824510</td>\n",
       "      <td>39.832144</td>\n",
       "      <td>42.373808</td>\n",
       "      <td>44.915471</td>\n",
       "      <td>50.066139</td>\n",
       "      <td>54.732709</td>\n",
       "      <td>59.399280</td>\n",
       "      <td>0.192307</td>\n",
       "      <td>[[0.007506284772812, -0.000896365888868, -0.00...</td>\n",
       "      <td>[[149.36744442935046, 29.97390686136147, 29.50...</td>\n",
       "      <td>[[149.36744442935046, 29.97390686136147, 29.50...</td>\n",
       "      <td>2</td>\n",
       "      <td>3</td>\n",
       "      <td>NaN</td>\n",
       "    </tr>\n",
       "    <tr>\n",
       "      <th>486</th>\n",
       "      <td>mp-2097</td>\n",
       "      <td>SnO</td>\n",
       "      <td>4</td>\n",
       "      <td>129</td>\n",
       "      <td>75.166961</td>\n",
       "      <td>[[0.         1.933476   1.16286876] Sn, [1.933...</td>\n",
       "      <td>7.265000</td>\n",
       "      <td>13.135000</td>\n",
       "      <td>21.395000</td>\n",
       "      <td>29.655000</td>\n",
       "      <td>21.767000</td>\n",
       "      <td>32.392000</td>\n",
       "      <td>43.017000</td>\n",
       "      <td>0.229000</td>\n",
       "      <td>[[0.05271271168582901, -0.046234409654551, -0....</td>\n",
       "      <td>[[86.106, 76.0015, 9.675, 0.0, 0.0, -0.0005], ...</td>\n",
       "      <td>[[86.106, 76.0015, 9.675, 0.0, 0.0, -0.0005], ...</td>\n",
       "      <td>2</td>\n",
       "      <td>0</td>\n",
       "      <td>NaN</td>\n",
       "    </tr>\n",
       "    <tr>\n",
       "      <th>503</th>\n",
       "      <td>mp-2125</td>\n",
       "      <td>TeO2</td>\n",
       "      <td>24</td>\n",
       "      <td>61</td>\n",
       "      <td>393.775151</td>\n",
       "      <td>[[0.69678499 4.70779903 2.95420715] Te, [2.175...</td>\n",
       "      <td>1.931000</td>\n",
       "      <td>14.602000</td>\n",
       "      <td>16.941000</td>\n",
       "      <td>19.280000</td>\n",
       "      <td>19.365000</td>\n",
       "      <td>22.551000</td>\n",
       "      <td>25.736000</td>\n",
       "      <td>0.200000</td>\n",
       "      <td>[[0.015380100815300002, -0.0026816696033420003...</td>\n",
       "      <td>[[81.915, 11.717, 23.0425, 0.0, -0.001, -0.077...</td>\n",
       "      <td>[[81.915, 11.717, 23.0425, 0.0, -0.001, -0.077...</td>\n",
       "      <td>2</td>\n",
       "      <td>0</td>\n",
       "      <td>NaN</td>\n",
       "    </tr>\n",
       "    <tr>\n",
       "      <th>633</th>\n",
       "      <td>mp-2646</td>\n",
       "      <td>Mg3Sb2</td>\n",
       "      <td>5</td>\n",
       "      <td>164</td>\n",
       "      <td>133.512590</td>\n",
       "      <td>[[0. 0. 0.] Mg, [-2.63357700e-06  2.65609333e+...</td>\n",
       "      <td>1.063509</td>\n",
       "      <td>15.922373</td>\n",
       "      <td>17.607785</td>\n",
       "      <td>19.293197</td>\n",
       "      <td>42.103126</td>\n",
       "      <td>42.208190</td>\n",
       "      <td>42.313254</td>\n",
       "      <td>0.316881</td>\n",
       "      <td>[[0.020453267212745003, -0.010408060642223, -0...</td>\n",
       "      <td>[[74.04919194479548, 36.82562821430389, 20.629...</td>\n",
       "      <td>[[74.04919194479548, 36.82562821430389, 20.629...</td>\n",
       "      <td>2</td>\n",
       "      <td>3</td>\n",
       "      <td>NaN</td>\n",
       "    </tr>\n",
       "    <tr>\n",
       "      <th>649</th>\n",
       "      <td>mp-2700</td>\n",
       "      <td>CaSi2</td>\n",
       "      <td>3</td>\n",
       "      <td>166</td>\n",
       "      <td>67.663859</td>\n",
       "      <td>[[0. 0. 0.] Ca, [2.22157302e-17 1.96978699e-17...</td>\n",
       "      <td>0.090051</td>\n",
       "      <td>46.369906</td>\n",
       "      <td>46.777262</td>\n",
       "      <td>47.184618</td>\n",
       "      <td>62.145034</td>\n",
       "      <td>62.213464</td>\n",
       "      <td>62.281894</td>\n",
       "      <td>0.199398</td>\n",
       "      <td>[[0.008411557715212, -0.0021034852777220003, -...</td>\n",
       "      <td>[[131.72220435300082, 35.7270423486775, 23.924...</td>\n",
       "      <td>[[131.72220435300082, 35.72704235436183, 23.92...</td>\n",
       "      <td>2</td>\n",
       "      <td>3</td>\n",
       "      <td>NaN</td>\n",
       "    </tr>\n",
       "    <tr>\n",
       "      <th>667</th>\n",
       "      <td>mp-279</td>\n",
       "      <td>LiIr</td>\n",
       "      <td>2</td>\n",
       "      <td>187</td>\n",
       "      <td>27.212946</td>\n",
       "      <td>[[-1.6682140e-06  1.5413881e+00  2.2042965e+00...</td>\n",
       "      <td>3.967429</td>\n",
       "      <td>47.327541</td>\n",
       "      <td>65.122168</td>\n",
       "      <td>82.916796</td>\n",
       "      <td>130.348477</td>\n",
       "      <td>143.874801</td>\n",
       "      <td>157.401124</td>\n",
       "      <td>0.303354</td>\n",
       "      <td>[[0.0032544967170280003, -0.001442720751618, -...</td>\n",
       "      <td>[[385.13383482808024, 172.23773704296713, 23.7...</td>\n",
       "      <td>[[385.13383482808024, 172.23773704296713, 23.7...</td>\n",
       "      <td>2</td>\n",
       "      <td>3</td>\n",
       "      <td>NaN</td>\n",
       "    </tr>\n",
       "    <tr>\n",
       "      <th>788</th>\n",
       "      <td>mp-3173</td>\n",
       "      <td>CaAlSi</td>\n",
       "      <td>3</td>\n",
       "      <td>187</td>\n",
       "      <td>67.144580</td>\n",
       "      <td>[[0. 0. 0.] Ca, [2.10481844 1.21521478 2.18757...</td>\n",
       "      <td>0.429971</td>\n",
       "      <td>38.918685</td>\n",
       "      <td>39.802280</td>\n",
       "      <td>40.685874</td>\n",
       "      <td>51.833741</td>\n",
       "      <td>57.093192</td>\n",
       "      <td>62.352644</td>\n",
       "      <td>0.217155</td>\n",
       "      <td>[[0.008426982986027001, -0.003448640429062, -0...</td>\n",
       "      <td>[[146.5105726421792, 62.14753518870222, 17.463...</td>\n",
       "      <td>[[146.5105726421792, 62.14753518870222, 17.463...</td>\n",
       "      <td>2</td>\n",
       "      <td>3</td>\n",
       "      <td>NaN</td>\n",
       "    </tr>\n",
       "    <tr>\n",
       "      <th>816</th>\n",
       "      <td>mp-3833</td>\n",
       "      <td>Mg(AlSi)2</td>\n",
       "      <td>5</td>\n",
       "      <td>164</td>\n",
       "      <td>96.422662</td>\n",
       "      <td>[[0. 0. 0.] Mg, [-2.03984800e-06  2.35541518e+...</td>\n",
       "      <td>0.292220</td>\n",
       "      <td>31.968684</td>\n",
       "      <td>32.734393</td>\n",
       "      <td>33.500102</td>\n",
       "      <td>62.350764</td>\n",
       "      <td>63.993746</td>\n",
       "      <td>65.636729</td>\n",
       "      <td>0.281495</td>\n",
       "      <td>[[0.01038837069646, -0.0042545361878820005, -0...</td>\n",
       "      <td>[[126.99903347148702, 57.834510135868115, 31.5...</td>\n",
       "      <td>[[126.99903347148702, 57.834510135868115, 31.5...</td>\n",
       "      <td>2</td>\n",
       "      <td>3</td>\n",
       "      <td>NaN</td>\n",
       "    </tr>\n",
       "    <tr>\n",
       "      <th>845</th>\n",
       "      <td>mp-48</td>\n",
       "      <td>C</td>\n",
       "      <td>4</td>\n",
       "      <td>194</td>\n",
       "      <td>41.192934</td>\n",
       "      <td>[[0.        0.        1.9536025] C, [0.       ...</td>\n",
       "      <td>209.960365</td>\n",
       "      <td>5.046973</td>\n",
       "      <td>95.525840</td>\n",
       "      <td>186.004707</td>\n",
       "      <td>7.462476</td>\n",
       "      <td>121.962397</td>\n",
       "      <td>236.462319</td>\n",
       "      <td>0.189457</td>\n",
       "      <td>[[0.0011412341298330001, -0.000199547851651000...</td>\n",
       "      <td>[[903.9728995773172, 158.146644781136, -0.8508...</td>\n",
       "      <td>[[903.9728995773172, 158.146644781136, -0.8508...</td>\n",
       "      <td>2</td>\n",
       "      <td>0</td>\n",
       "      <td>NaN</td>\n",
       "    </tr>\n",
       "    <tr>\n",
       "      <th>869</th>\n",
       "      <td>mp-510559</td>\n",
       "      <td>Na(CoO2)2</td>\n",
       "      <td>28</td>\n",
       "      <td>59</td>\n",
       "      <td>339.799653</td>\n",
       "      <td>[[3.13181014 1.5221565  2.85021   ] Na, [1.763...</td>\n",
       "      <td>4.736383</td>\n",
       "      <td>19.739488</td>\n",
       "      <td>28.693432</td>\n",
       "      <td>37.647376</td>\n",
       "      <td>63.247315</td>\n",
       "      <td>69.582363</td>\n",
       "      <td>75.917411</td>\n",
       "      <td>0.318733</td>\n",
       "      <td>[[0.007580822953289001, -0.0007889924700870001...</td>\n",
       "      <td>[[158.3788295132844, 18.08229480295428, 71.874...</td>\n",
       "      <td>[[202.68509741612763, 71.8744588592941, 24.452...</td>\n",
       "      <td>2</td>\n",
       "      <td>3</td>\n",
       "      <td>NaN</td>\n",
       "    </tr>\n",
       "    <tr>\n",
       "      <th>935</th>\n",
       "      <td>mp-568286</td>\n",
       "      <td>C</td>\n",
       "      <td>16</td>\n",
       "      <td>69</td>\n",
       "      <td>168.486154</td>\n",
       "      <td>[[0.71208904 3.08336132 6.00682977] C, [0.7121...</td>\n",
       "      <td>397.297866</td>\n",
       "      <td>2.472458</td>\n",
       "      <td>91.024121</td>\n",
       "      <td>179.575784</td>\n",
       "      <td>5.758229</td>\n",
       "      <td>118.462873</td>\n",
       "      <td>231.167517</td>\n",
       "      <td>0.194148</td>\n",
       "      <td>[[0.001176036911985, 8.195217118462564e-05, -0...</td>\n",
       "      <td>[[879.4221332211278, -0.6498185542331121, 159....</td>\n",
       "      <td>[[879.3766251323607, 159.9141585849458, -1.333...</td>\n",
       "      <td>2</td>\n",
       "      <td>0</td>\n",
       "      <td>NaN</td>\n",
       "    </tr>\n",
       "    <tr>\n",
       "      <th>988</th>\n",
       "      <td>mp-571039</td>\n",
       "      <td>CaAlPd</td>\n",
       "      <td>12</td>\n",
       "      <td>57</td>\n",
       "      <td>255.329217</td>\n",
       "      <td>[[1.40830625 2.09401251 4.72321029] Ca, [4.224...</td>\n",
       "      <td>1.129019</td>\n",
       "      <td>24.744075</td>\n",
       "      <td>27.402864</td>\n",
       "      <td>30.061654</td>\n",
       "      <td>60.165358</td>\n",
       "      <td>61.804973</td>\n",
       "      <td>63.444589</td>\n",
       "      <td>0.306857</td>\n",
       "      <td>[[0.016232027755624, -0.008751490022515001, 0....</td>\n",
       "      <td>[[87.30307440080672, 50.848537852949704, 24.73...</td>\n",
       "      <td>[[110.27875614327198, 24.739445787255008, 60.0...</td>\n",
       "      <td>2</td>\n",
       "      <td>3</td>\n",
       "      <td>NaN</td>\n",
       "    </tr>\n",
       "    <tr>\n",
       "      <th>1005</th>\n",
       "      <td>mp-5910</td>\n",
       "      <td>CaCuSb</td>\n",
       "      <td>6</td>\n",
       "      <td>194</td>\n",
       "      <td>142.968624</td>\n",
       "      <td>[[0. 0. 0.] Ca, [0.        0.        4.1205995...</td>\n",
       "      <td>0.580629</td>\n",
       "      <td>33.002411</td>\n",
       "      <td>34.294234</td>\n",
       "      <td>35.586058</td>\n",
       "      <td>47.892033</td>\n",
       "      <td>52.422520</td>\n",
       "      <td>56.953007</td>\n",
       "      <td>0.231463</td>\n",
       "      <td>[[0.008883543994239, -0.002633636423416, -0.00...</td>\n",
       "      <td>[[131.91876712201025, 45.61464001443751, 22.93...</td>\n",
       "      <td>[[131.91876712201025, 45.61464001443751, 22.93...</td>\n",
       "      <td>2</td>\n",
       "      <td>3</td>\n",
       "      <td>NaN</td>\n",
       "    </tr>\n",
       "    <tr>\n",
       "      <th>1053</th>\n",
       "      <td>mp-700</td>\n",
       "      <td>GeSe</td>\n",
       "      <td>8</td>\n",
       "      <td>62</td>\n",
       "      <td>196.684685</td>\n",
       "      <td>[[0.9701605  0.53530636 1.40086082] Ge, [2.910...</td>\n",
       "      <td>2.660782</td>\n",
       "      <td>11.589830</td>\n",
       "      <td>14.301847</td>\n",
       "      <td>17.013865</td>\n",
       "      <td>18.197878</td>\n",
       "      <td>21.116671</td>\n",
       "      <td>24.035463</td>\n",
       "      <td>0.223731</td>\n",
       "      <td>[[0.072129588192842, -0.016165602208373, -0.02...</td>\n",
       "      <td>[[26.072050594140478, 8.28849300538936, 28.779...</td>\n",
       "      <td>[[77.57794664975034, 28.77964987906952, 3.9220...</td>\n",
       "      <td>2</td>\n",
       "      <td>0</td>\n",
       "      <td>NaN</td>\n",
       "    </tr>\n",
       "    <tr>\n",
       "      <th>1077</th>\n",
       "      <td>mp-7429</td>\n",
       "      <td>Ca(ZnSb)2</td>\n",
       "      <td>5</td>\n",
       "      <td>164</td>\n",
       "      <td>131.105598</td>\n",
       "      <td>[[0. 0. 0.] Ca, [-1.57975400e-06  2.59394463e+...</td>\n",
       "      <td>1.212966</td>\n",
       "      <td>17.372086</td>\n",
       "      <td>19.452133</td>\n",
       "      <td>21.532180</td>\n",
       "      <td>43.407933</td>\n",
       "      <td>43.746851</td>\n",
       "      <td>44.085770</td>\n",
       "      <td>0.306373</td>\n",
       "      <td>[[0.013655632791221001, -0.0038462486432830002...</td>\n",
       "      <td>[[87.73013932039153, 29.377946364151775, 23.34...</td>\n",
       "      <td>[[87.73013932039153, 29.377946364151775, 23.34...</td>\n",
       "      <td>2</td>\n",
       "      <td>3</td>\n",
       "      <td>NaN</td>\n",
       "    </tr>\n",
       "    <tr>\n",
       "      <th>1078</th>\n",
       "      <td>mp-7430</td>\n",
       "      <td>Ca(CdSb)2</td>\n",
       "      <td>5</td>\n",
       "      <td>164</td>\n",
       "      <td>148.129392</td>\n",
       "      <td>[[0. 0. 0.] Ca, [-2.03038700e-06  2.72939003e+...</td>\n",
       "      <td>0.199808</td>\n",
       "      <td>19.631134</td>\n",
       "      <td>19.995749</td>\n",
       "      <td>20.360363</td>\n",
       "      <td>38.599131</td>\n",
       "      <td>38.870773</td>\n",
       "      <td>39.142416</td>\n",
       "      <td>0.280440</td>\n",
       "      <td>[[0.016535296089040002, -0.005246440503764001,...</td>\n",
       "      <td>[[74.5093149877034, 28.2979925294921, 21.34296...</td>\n",
       "      <td>[[74.5093149877034, 28.2979925294921, 21.34296...</td>\n",
       "      <td>2</td>\n",
       "      <td>3</td>\n",
       "      <td>NaN</td>\n",
       "    </tr>\n",
       "    <tr>\n",
       "      <th>1092</th>\n",
       "      <td>mp-7704</td>\n",
       "      <td>Ca(AlSi)2</td>\n",
       "      <td>5</td>\n",
       "      <td>164</td>\n",
       "      <td>106.251615</td>\n",
       "      <td>[[0. 0. 0.] Ca, [2.07734041 1.1993508  2.63085...</td>\n",
       "      <td>0.267538</td>\n",
       "      <td>39.685241</td>\n",
       "      <td>40.592445</td>\n",
       "      <td>41.499649</td>\n",
       "      <td>60.601075</td>\n",
       "      <td>61.780914</td>\n",
       "      <td>62.960753</td>\n",
       "      <td>0.230504</td>\n",
       "      <td>[[0.008813313331718, -0.0025753413865230003, -...</td>\n",
       "      <td>[[133.9476867970121, 43.26362533459509, 28.515...</td>\n",
       "      <td>[[133.9476867970121, 43.26362533459509, 28.515...</td>\n",
       "      <td>2</td>\n",
       "      <td>3</td>\n",
       "      <td>NaN</td>\n",
       "    </tr>\n",
       "    <tr>\n",
       "      <th>1115</th>\n",
       "      <td>mp-8372</td>\n",
       "      <td>CaSi2</td>\n",
       "      <td>3</td>\n",
       "      <td>164</td>\n",
       "      <td>64.804844</td>\n",
       "      <td>[[0. 0. 0.] Ca, [1.94484561 1.12285488 2.90201...</td>\n",
       "      <td>1.660884</td>\n",
       "      <td>30.061227</td>\n",
       "      <td>34.563441</td>\n",
       "      <td>39.065655</td>\n",
       "      <td>55.180267</td>\n",
       "      <td>59.683051</td>\n",
       "      <td>64.185835</td>\n",
       "      <td>0.257294</td>\n",
       "      <td>[[0.011519570706093002, -0.005434834593593001,...</td>\n",
       "      <td>[[135.52850729362183, 56.325918152735525, 31.1...</td>\n",
       "      <td>[[135.52850729362183, 56.325918152735525, 31.1...</td>\n",
       "      <td>2</td>\n",
       "      <td>3</td>\n",
       "      <td>NaN</td>\n",
       "    </tr>\n",
       "    <tr>\n",
       "      <th>1156</th>\n",
       "      <td>mp-938</td>\n",
       "      <td>GeTe</td>\n",
       "      <td>2</td>\n",
       "      <td>160</td>\n",
       "      <td>56.231272</td>\n",
       "      <td>[[-9.27337948e-17  4.29031970e-17  1.08394366e...</td>\n",
       "      <td>2.495861</td>\n",
       "      <td>19.802486</td>\n",
       "      <td>24.281030</td>\n",
       "      <td>28.759573</td>\n",
       "      <td>26.471738</td>\n",
       "      <td>29.572297</td>\n",
       "      <td>32.672856</td>\n",
       "      <td>0.177680</td>\n",
       "      <td>[[0.018615535963739, -0.0032296189221990004, -...</td>\n",
       "      <td>[[77.29820949181294, 11.148921693573975, 14.61...</td>\n",
       "      <td>[[85.7974, 14.5103, 15.1681, 17.7062, 0.0, 0.0...</td>\n",
       "      <td>2</td>\n",
       "      <td>3</td>\n",
       "      <td>NaN</td>\n",
       "    </tr>\n",
       "    <tr>\n",
       "      <th>1170</th>\n",
       "      <td>mp-984</td>\n",
       "      <td>BN</td>\n",
       "      <td>4</td>\n",
       "      <td>194</td>\n",
       "      <td>43.223810</td>\n",
       "      <td>[[-1.58936800e-06  1.45034473e+00  1.97728400e...</td>\n",
       "      <td>217.148741</td>\n",
       "      <td>3.991397</td>\n",
       "      <td>74.521500</td>\n",
       "      <td>145.051603</td>\n",
       "      <td>4.840195</td>\n",
       "      <td>102.717241</td>\n",
       "      <td>200.594287</td>\n",
       "      <td>0.207891</td>\n",
       "      <td>[[0.001433543590162, -0.00031972678642800003, ...</td>\n",
       "      <td>[[734.3239973458421, 163.89947205734512, 1.105...</td>\n",
       "      <td>[[734.3239973458421, 163.89947205734512, 1.105...</td>\n",
       "      <td>2</td>\n",
       "      <td>0</td>\n",
       "      <td>NaN</td>\n",
       "    </tr>\n",
       "  </tbody>\n",
       "</table>\n",
       "</div>"
      ],
      "text/plain": [
       "     material_id    formula  nsites  space_group      volume  \\\n",
       "220     mp-12693      Mg2Rh       6          139  104.037774   \n",
       "294       mp-140         Ga       2          139   37.905223   \n",
       "339     mp-16245     CaSbAu       6          194  157.686141   \n",
       "341     mp-16266     CaZnSi       6          194  128.270974   \n",
       "486      mp-2097        SnO       4          129   75.166961   \n",
       "503      mp-2125       TeO2      24           61  393.775151   \n",
       "633      mp-2646     Mg3Sb2       5          164  133.512590   \n",
       "649      mp-2700      CaSi2       3          166   67.663859   \n",
       "667       mp-279       LiIr       2          187   27.212946   \n",
       "788      mp-3173     CaAlSi       3          187   67.144580   \n",
       "816      mp-3833  Mg(AlSi)2       5          164   96.422662   \n",
       "845        mp-48          C       4          194   41.192934   \n",
       "869    mp-510559  Na(CoO2)2      28           59  339.799653   \n",
       "935    mp-568286          C      16           69  168.486154   \n",
       "988    mp-571039     CaAlPd      12           57  255.329217   \n",
       "1005     mp-5910     CaCuSb       6          194  142.968624   \n",
       "1053      mp-700       GeSe       8           62  196.684685   \n",
       "1077     mp-7429  Ca(ZnSb)2       5          164  131.105598   \n",
       "1078     mp-7430  Ca(CdSb)2       5          164  148.129392   \n",
       "1092     mp-7704  Ca(AlSi)2       5          164  106.251615   \n",
       "1115     mp-8372      CaSi2       3          164   64.804844   \n",
       "1156      mp-938       GeTe       2          160   56.231272   \n",
       "1170      mp-984         BN       4          194   43.223810   \n",
       "\n",
       "                                              structure  elastic_anisotropy  \\\n",
       "220   [[1.610584   1.610584   1.44491864] Mg, [1.610...            2.652374   \n",
       "294    [[0. 0. 0.] Ga, [1.449379 1.449379 2.255512] Ga]            2.167179   \n",
       "339   [[0. 0. 0.] Ca, [0.        0.        4.1252335...            1.019603   \n",
       "341   [[0.       0.       4.126327] Ca, [0. 0. 0.] C...            0.824510   \n",
       "486   [[0.         1.933476   1.16286876] Sn, [1.933...            7.265000   \n",
       "503   [[0.69678499 4.70779903 2.95420715] Te, [2.175...            1.931000   \n",
       "633   [[0. 0. 0.] Mg, [-2.63357700e-06  2.65609333e+...            1.063509   \n",
       "649   [[0. 0. 0.] Ca, [2.22157302e-17 1.96978699e-17...            0.090051   \n",
       "667   [[-1.6682140e-06  1.5413881e+00  2.2042965e+00...            3.967429   \n",
       "788   [[0. 0. 0.] Ca, [2.10481844 1.21521478 2.18757...            0.429971   \n",
       "816   [[0. 0. 0.] Mg, [-2.03984800e-06  2.35541518e+...            0.292220   \n",
       "845   [[0.        0.        1.9536025] C, [0.       ...          209.960365   \n",
       "869   [[3.13181014 1.5221565  2.85021   ] Na, [1.763...            4.736383   \n",
       "935   [[0.71208904 3.08336132 6.00682977] C, [0.7121...          397.297866   \n",
       "988   [[1.40830625 2.09401251 4.72321029] Ca, [4.224...            1.129019   \n",
       "1005  [[0. 0. 0.] Ca, [0.        0.        4.1205995...            0.580629   \n",
       "1053  [[0.9701605  0.53530636 1.40086082] Ge, [2.910...            2.660782   \n",
       "1077  [[0. 0. 0.] Ca, [-1.57975400e-06  2.59394463e+...            1.212966   \n",
       "1078  [[0. 0. 0.] Ca, [-2.03038700e-06  2.72939003e+...            0.199808   \n",
       "1092  [[0. 0. 0.] Ca, [2.07734041 1.1993508  2.63085...            0.267538   \n",
       "1115  [[0. 0. 0.] Ca, [1.94484561 1.12285488 2.90201...            1.660884   \n",
       "1156  [[-9.27337948e-17  4.29031970e-17  1.08394366e...            2.495861   \n",
       "1170  [[-1.58936800e-06  1.45034473e+00  1.97728400e...          217.148741   \n",
       "\n",
       "        G_Reuss      G_VRH     G_Voigt     K_Reuss       K_VRH     K_Voigt  \\\n",
       "220   32.308637  39.872414   47.436190   56.677736   65.498864   74.319991   \n",
       "294    5.214681   6.344549    7.474418   49.354685   49.366337   49.377988   \n",
       "339   22.144912  23.743349   25.341785   46.396264   53.304561   60.212859   \n",
       "341   39.832144  42.373808   44.915471   50.066139   54.732709   59.399280   \n",
       "486   13.135000  21.395000   29.655000   21.767000   32.392000   43.017000   \n",
       "503   14.602000  16.941000   19.280000   19.365000   22.551000   25.736000   \n",
       "633   15.922373  17.607785   19.293197   42.103126   42.208190   42.313254   \n",
       "649   46.369906  46.777262   47.184618   62.145034   62.213464   62.281894   \n",
       "667   47.327541  65.122168   82.916796  130.348477  143.874801  157.401124   \n",
       "788   38.918685  39.802280   40.685874   51.833741   57.093192   62.352644   \n",
       "816   31.968684  32.734393   33.500102   62.350764   63.993746   65.636729   \n",
       "845    5.046973  95.525840  186.004707    7.462476  121.962397  236.462319   \n",
       "869   19.739488  28.693432   37.647376   63.247315   69.582363   75.917411   \n",
       "935    2.472458  91.024121  179.575784    5.758229  118.462873  231.167517   \n",
       "988   24.744075  27.402864   30.061654   60.165358   61.804973   63.444589   \n",
       "1005  33.002411  34.294234   35.586058   47.892033   52.422520   56.953007   \n",
       "1053  11.589830  14.301847   17.013865   18.197878   21.116671   24.035463   \n",
       "1077  17.372086  19.452133   21.532180   43.407933   43.746851   44.085770   \n",
       "1078  19.631134  19.995749   20.360363   38.599131   38.870773   39.142416   \n",
       "1092  39.685241  40.592445   41.499649   60.601075   61.780914   62.960753   \n",
       "1115  30.061227  34.563441   39.065655   55.180267   59.683051   64.185835   \n",
       "1156  19.802486  24.281030   28.759573   26.471738   29.572297   32.672856   \n",
       "1170   3.991397  74.521500  145.051603    4.840195  102.717241  200.594287   \n",
       "\n",
       "      poisson_ratio                                  compliance_tensor  \\\n",
       "220        0.246969  [[0.010921486472281, -0.000591462431469, -0.00...   \n",
       "294        0.438380  [[0.030860676289136003, -0.001764103354717, -0...   \n",
       "339        0.306079  [[0.011809009603428, -0.0064479312355170005, -...   \n",
       "341        0.192307  [[0.007506284772812, -0.000896365888868, -0.00...   \n",
       "486        0.229000  [[0.05271271168582901, -0.046234409654551, -0....   \n",
       "503        0.200000  [[0.015380100815300002, -0.0026816696033420003...   \n",
       "633        0.316881  [[0.020453267212745003, -0.010408060642223, -0...   \n",
       "649        0.199398  [[0.008411557715212, -0.0021034852777220003, -...   \n",
       "667        0.303354  [[0.0032544967170280003, -0.001442720751618, -...   \n",
       "788        0.217155  [[0.008426982986027001, -0.003448640429062, -0...   \n",
       "816        0.281495  [[0.01038837069646, -0.0042545361878820005, -0...   \n",
       "845        0.189457  [[0.0011412341298330001, -0.000199547851651000...   \n",
       "869        0.318733  [[0.007580822953289001, -0.0007889924700870001...   \n",
       "935        0.194148  [[0.001176036911985, 8.195217118462564e-05, -0...   \n",
       "988        0.306857  [[0.016232027755624, -0.008751490022515001, 0....   \n",
       "1005       0.231463  [[0.008883543994239, -0.002633636423416, -0.00...   \n",
       "1053       0.223731  [[0.072129588192842, -0.016165602208373, -0.02...   \n",
       "1077       0.306373  [[0.013655632791221001, -0.0038462486432830002...   \n",
       "1078       0.280440  [[0.016535296089040002, -0.005246440503764001,...   \n",
       "1092       0.230504  [[0.008813313331718, -0.0025753413865230003, -...   \n",
       "1115       0.257294  [[0.011519570706093002, -0.005434834593593001,...   \n",
       "1156       0.177680  [[0.018615535963739, -0.0032296189221990004, -...   \n",
       "1170       0.207891  [[0.001433543590162, -0.00031972678642800003, ...   \n",
       "\n",
       "                                         elastic_tensor  \\\n",
       "220   [[142.66357192180826, 55.80244217677537, 53.76...   \n",
       "294   [[66.5429709675885, 35.89134302865806, 45.0049...   \n",
       "339   [[127.69461808494853, 72.7215713935361, 20.715...   \n",
       "341   [[149.36744442935046, 29.97390686136147, 29.50...   \n",
       "486   [[86.106, 76.0015, 9.675, 0.0, 0.0, -0.0005], ...   \n",
       "503   [[81.915, 11.717, 23.0425, 0.0, -0.001, -0.077...   \n",
       "633   [[74.04919194479548, 36.82562821430389, 20.629...   \n",
       "649   [[131.72220435300082, 35.7270423486775, 23.924...   \n",
       "667   [[385.13383482808024, 172.23773704296713, 23.7...   \n",
       "788   [[146.5105726421792, 62.14753518870222, 17.463...   \n",
       "816   [[126.99903347148702, 57.834510135868115, 31.5...   \n",
       "845   [[903.9728995773172, 158.146644781136, -0.8508...   \n",
       "869   [[158.3788295132844, 18.08229480295428, 71.874...   \n",
       "935   [[879.4221332211278, -0.6498185542331121, 159....   \n",
       "988   [[87.30307440080672, 50.848537852949704, 24.73...   \n",
       "1005  [[131.91876712201025, 45.61464001443751, 22.93...   \n",
       "1053  [[26.072050594140478, 8.28849300538936, 28.779...   \n",
       "1077  [[87.73013932039153, 29.377946364151775, 23.34...   \n",
       "1078  [[74.5093149877034, 28.2979925294921, 21.34296...   \n",
       "1092  [[133.9476867970121, 43.26362533459509, 28.515...   \n",
       "1115  [[135.52850729362183, 56.325918152735525, 31.1...   \n",
       "1156  [[77.29820949181294, 11.148921693573975, 14.61...   \n",
       "1170  [[734.3239973458421, 163.89947205734512, 1.105...   \n",
       "\n",
       "                                elastic_tensor_original  dimensionality  \\\n",
       "220   [[142.66357192180826, 55.80244217677537, 53.76...               2   \n",
       "294   [[66.5429709675885, 35.89134302865806, 45.0049...               2   \n",
       "339   [[127.69461808494853, 72.7215713935361, 20.715...               2   \n",
       "341   [[149.36744442935046, 29.97390686136147, 29.50...               2   \n",
       "486   [[86.106, 76.0015, 9.675, 0.0, 0.0, -0.0005], ...               2   \n",
       "503   [[81.915, 11.717, 23.0425, 0.0, -0.001, -0.077...               2   \n",
       "633   [[74.04919194479548, 36.82562821430389, 20.629...               2   \n",
       "649   [[131.72220435300082, 35.72704235436183, 23.92...               2   \n",
       "667   [[385.13383482808024, 172.23773704296713, 23.7...               2   \n",
       "788   [[146.5105726421792, 62.14753518870222, 17.463...               2   \n",
       "816   [[126.99903347148702, 57.834510135868115, 31.5...               2   \n",
       "845   [[903.9728995773172, 158.146644781136, -0.8508...               2   \n",
       "869   [[202.68509741612763, 71.8744588592941, 24.452...               2   \n",
       "935   [[879.3766251323607, 159.9141585849458, -1.333...               2   \n",
       "988   [[110.27875614327198, 24.739445787255008, 60.0...               2   \n",
       "1005  [[131.91876712201025, 45.61464001443751, 22.93...               2   \n",
       "1053  [[77.57794664975034, 28.77964987906952, 3.9220...               2   \n",
       "1077  [[87.73013932039153, 29.377946364151775, 23.34...               2   \n",
       "1078  [[74.5093149877034, 28.2979925294921, 21.34296...               2   \n",
       "1092  [[133.9476867970121, 43.26362533459509, 28.515...               2   \n",
       "1115  [[135.52850729362183, 56.325918152735525, 31.1...               2   \n",
       "1156  [[85.7974, 14.5103, 15.1681, 17.7062, 0.0, 0.0...               2   \n",
       "1170  [[734.3239973458421, 163.89947205734512, 1.105...               2   \n",
       "\n",
       "      new_dimensionality_five  NewDimensionality Exceptions  \n",
       "220                         0                           NaN  \n",
       "294                         3                           NaN  \n",
       "339                         3                           NaN  \n",
       "341                         3                           NaN  \n",
       "486                         0                           NaN  \n",
       "503                         0                           NaN  \n",
       "633                         3                           NaN  \n",
       "649                         3                           NaN  \n",
       "667                         3                           NaN  \n",
       "788                         3                           NaN  \n",
       "816                         3                           NaN  \n",
       "845                         0                           NaN  \n",
       "869                         3                           NaN  \n",
       "935                         0                           NaN  \n",
       "988                         3                           NaN  \n",
       "1005                        3                           NaN  \n",
       "1053                        0                           NaN  \n",
       "1077                        3                           NaN  \n",
       "1078                        3                           NaN  \n",
       "1092                        3                           NaN  \n",
       "1115                        3                           NaN  \n",
       "1156                        3                           NaN  \n",
       "1170                        0                           NaN  "
      ]
     },
     "execution_count": 697,
     "metadata": {},
     "output_type": "execute_result"
    }
   ],
   "source": [
    "X[X['dimensionality'] != X['new_dimensionality_five']][X['dimensionality'] == 2]"
   ]
  },
  {
   "cell_type": "code",
   "execution_count": 149,
   "metadata": {},
   "outputs": [
    {
     "data": {
      "text/plain": [
       "(2, 2, 2)"
      ]
     },
     "execution_count": 149,
     "metadata": {},
     "output_type": "execute_result"
    }
   ],
   "source": [
    "def reverse(image):\n",
    "    r = []\n",
    "    for i in image:\n",
    "        if i == 1:\n",
    "            r.append(1)\n",
    "        elif i == 0:\n",
    "            r.append(2)\n",
    "        else:\n",
    "            r.append(0)\n",
    "    r = tuple(r)\n",
    "    if r == image:\n",
    "        return False\n",
    "    else:\n",
    "        return r\n",
    "\n",
    "reverse((0, 0, 0))"
   ]
  },
  {
   "cell_type": "code",
   "execution_count": 584,
   "metadata": {},
   "outputs": [
    {
     "name": "stdout",
     "output_type": "stream",
     "text": [
      "n_corners: 2\tn_spans: 1\tn_reversed: 1.0\n",
      "1 groups of connected sites\n",
      "the sets have: [15] atoms\n",
      "with dimensionality: [1]\n"
     ]
    },
    {
     "data": {
      "text/plain": [
       "1"
      ]
     },
     "execution_count": 584,
     "metadata": {},
     "output_type": "execute_result"
    }
   ],
   "source": [
    "get_dimensionality(fake_struct, verbose=True)"
   ]
  },
  {
   "cell_type": "code",
   "execution_count": 589,
   "metadata": {},
   "outputs": [
    {
     "ename": "NameError",
     "evalue": "name 'list_images' is not defined",
     "output_type": "error",
     "traceback": [
      "\u001b[0;31m---------------------------------------------------------------------------\u001b[0m",
      "\u001b[0;31mNameError\u001b[0m                                 Traceback (most recent call last)",
      "\u001b[0;32m<ipython-input-589-9d814f50b93b>\u001b[0m in \u001b[0;36m<module>\u001b[0;34m\u001b[0m\n\u001b[0;32m----> 1\u001b[0;31m \u001b[0mlist_images\u001b[0m\u001b[0;34m\u001b[0m\u001b[0m\n\u001b[0m",
      "\u001b[0;31mNameError\u001b[0m: name 'list_images' is not defined"
     ]
    }
   ],
   "source": []
  },
  {
   "cell_type": "code",
   "execution_count": 595,
   "metadata": {},
   "outputs": [
    {
     "name": "stdout",
     "output_type": "stream",
     "text": [
      "17.3 µs ± 274 ns per loop (mean ± std. dev. of 7 runs, 100000 loops each)\n"
     ]
    }
   ],
   "source": [
    "%timeit [reverse((x, y, z)) for x, y, z in product(range(3), range(3), range(3))"
   ]
  },
  {
   "cell_type": "code",
   "execution_count": 150,
   "metadata": {},
   "outputs": [],
   "source": [
    "from itertools import product\n",
    "lookup = {}\n",
    "for image in product(range(3), range(3), range(3)):\n",
    "    if image != reverse(image):\n",
    "        lookup[image] = reverse(image)\n",
    "    else:\n",
    "        lookup[image] = False\n",
    "lookup[(2, 0, 0)] = (0, 2, 2)\n",
    "lookup[(2, 2, 0)] = (0, 0, 2)\n",
    "lookup[(0, 2, 0)] = (2, 0, 2)"
   ]
  },
  {
   "cell_type": "code",
   "execution_count": 599,
   "metadata": {},
   "outputs": [
    {
     "name": "stdout",
     "output_type": "stream",
     "text": [
      "3.76 µs ± 36.6 ns per loop (mean ± std. dev. of 7 runs, 100000 loops each)\n"
     ]
    }
   ],
   "source": [
    "%timeit [lookup[(x, y, z)] for x, y, z in product(range(3), range(3), range(3))]"
   ]
  },
  {
   "cell_type": "code",
   "execution_count": 629,
   "metadata": {},
   "outputs": [],
   "source": [
    "tol = 1e-8\n",
    "sites_to_translate = [i for i, site in enumerate(bi)\n",
    "                      if 0 in site.frac_coords]\n",
    "bi.translate_sites(sites_to_translate, [tol, tol, tol], frac_coords=False)"
   ]
  },
  {
   "cell_type": "code",
   "execution_count": 662,
   "metadata": {},
   "outputs": [
    {
     "data": {
      "text/plain": [
       "Structure Summary\n",
       "Lattice\n",
       "    abc : 5.703198000000088 5.703198 5.703198000000088\n",
       " angles : 90.0 90.00002009250935 90.0\n",
       " volume : 185.50488397788934\n",
       "      A : 5.703198 0.0 -1e-06\n",
       "      B : 0.0 5.703198 -0.0\n",
       "      C : -1e-06 -0.0 5.703198\n",
       "PeriodicSite: Al (0.0000, 0.0000, 0.0000) [0.0000, 0.0000, 0.0000]\n",
       "PeriodicSite: Al (5.7032, 2.8516, 2.8516) [1.0000, 0.5000, 0.5000]\n",
       "PeriodicSite: Al (2.8516, 5.7032, 2.8516) [0.5000, 1.0000, 0.5000]\n",
       "PeriodicSite: Al (2.8516, 2.8516, 0.0000) [0.5000, 0.5000, 0.0000]\n",
       "PeriodicSite: Fe (2.8516, 5.7032, 5.7032) [0.5000, 1.0000, 1.0000]\n",
       "PeriodicSite: Fe (2.8516, 2.8516, 2.8516) [0.5000, 0.5000, 0.5000]\n",
       "PeriodicSite: Fe (5.7032, 5.7032, 2.8516) [1.0000, 1.0000, 0.5000]\n",
       "PeriodicSite: Fe (5.7032, 2.8516, 5.7032) [1.0000, 0.5000, 1.0000]\n",
       "PeriodicSite: Co (4.2774, 1.4258, 1.4258) [0.7500, 0.2500, 0.2500]\n",
       "PeriodicSite: Co (1.4258, 4.2774, 4.2774) [0.2500, 0.7500, 0.7500]\n",
       "PeriodicSite: Co (4.2774, 4.2774, 4.2774) [0.7500, 0.7500, 0.7500]\n",
       "PeriodicSite: Co (1.4258, 1.4258, 1.4258) [0.2500, 0.2500, 0.2500]\n",
       "PeriodicSite: Co (1.4258, 1.4258, 4.2774) [0.2500, 0.2500, 0.7500]\n",
       "PeriodicSite: Co (4.2774, 4.2774, 1.4258) [0.7500, 0.7500, 0.2500]\n",
       "PeriodicSite: Co (1.4258, 4.2774, 1.4258) [0.2500, 0.7500, 0.2500]\n",
       "PeriodicSite: Co (4.2774, 1.4258, 4.2774) [0.7500, 0.2500, 0.7500]"
      ]
     },
     "execution_count": 662,
     "metadata": {},
     "output_type": "execute_result"
    }
   ],
   "source": [
    "X.iloc[60]['structure']"
   ]
  },
  {
   "cell_type": "code",
   "execution_count": 693,
   "metadata": {},
   "outputs": [
    {
     "data": {
      "text/plain": [
       "Structure Graph\n",
       "Structure: \n",
       "Structure Summary\n",
       "Lattice\n",
       "    abc : 7.1426565686395 7.142656467549591 7.1426565686395\n",
       " angles : 38.6072412886225 38.60724490331259 38.6072412886225\n",
       " volume : 127.50029879468154\n",
       "      A : 2.361177 -1.363226 6.601818\n",
       "      B : 0.0 2.726452 6.601818\n",
       "      C : -2.361177 -1.363226 6.601818\n",
       "PeriodicSite: Li (0.0000, 0.0000, 9.9027) [0.5000, 0.5000, 0.5000]\n",
       "PeriodicSite: Li (0.0000, 0.0000, 7.0115) [0.3540, 0.3540, 0.3540]\n",
       "PeriodicSite: Li (0.0000, 0.0000, 12.7939) [0.6460, 0.6460, 0.6460]\n",
       "PeriodicSite: Li (0.0000, 0.0000, 4.2369) [0.2139, 0.2139, 0.2139]\n",
       "PeriodicSite: Li (0.0000, -0.0000, 15.5686) [0.7861, 0.7861, 0.7861]\n",
       "PeriodicSite: Sn (-0.0000, -0.0000, 1.4607) [0.0737, 0.0737, 0.0737]\n",
       "PeriodicSite: Sn (-0.0000, 0.0000, 18.3448) [0.9263, 0.9263, 0.9263]\n",
       "Graph: bonds\n",
       "from    to  to_image      weight\n",
       "----  ----  ------------  ------------------\n",
       "   0     1  (0, 0, 0)     1.000e+00\n",
       "   0     2  (0, 0, 0)     1.000e+00\n",
       "   0     3  (0, 1, 0)     1.000e+00\n",
       "   0     3  (1, 0, 0)     1.000e+00\n",
       "   0     3  (0, 0, 1)     1.000e+00\n",
       "   0     4  (0, -1, 0)    1.000e+00\n",
       "   0     4  (0, 0, -1)    1.000e+00\n",
       "   0     4  (-1, 0, 0)    1.000e+00\n",
       "   0     5  (0, 1, 0)     1.000e+00\n",
       "   0     5  (1, 0, 0)     1.000e+00\n",
       "   0     5  (0, 0, 1)     1.000e+00\n",
       "   0     6  (0, -1, 0)    1.000e+00\n",
       "   0     6  (-1, 0, 0)    1.000e+00\n",
       "   0     6  (0, 0, -1)    1.000e+00\n",
       "   1     5  (0, 1, 0)     1.000e+00\n",
       "   1     5  (1, 0, 0)     1.000e+00\n",
       "   1     5  (0, 0, 1)     1.000e+00\n",
       "   2     6  (0, -1, 0)    1.000e+00\n",
       "   2     6  (0, 0, -1)    1.000e+00\n",
       "   2     6  (-1, 0, 0)    1.000e+00\n",
       "   3     5  (0, 0, 0)     1.000e+00\n",
       "   3     6  (-1, 0, -1)   1.000e+00\n",
       "   3     6  (-1, -1, 0)   1.000e+00\n",
       "   3     6  (0, -1, -1)   1.000e+00\n",
       "   4     5  (1, 0, 1)     1.000e+00\n",
       "   4     5  (1, 1, 0)     1.000e+00\n",
       "   4     5  (0, 1, 1)     1.000e+00\n",
       "   4     6  (0, 0, 0)     1.000e+00"
      ]
     },
     "execution_count": 693,
     "metadata": {},
     "output_type": "execute_result"
    }
   ],
   "source": [
    "aw = cnn.get_bonded_structure(X.iloc[730]['structure'])\n",
    "aw"
   ]
  },
  {
   "cell_type": "code",
   "execution_count": 694,
   "metadata": {},
   "outputs": [
    {
     "data": {
      "text/plain": [
       "[ConnectedSite(site=PeriodicSite: Li (0.0000, -2.7265, 8.9667) [0.7861, -0.2139, 0.7861], jimage=(0, -1, 0), index=4, weight=1, dist=2.8826415952143187),\n",
       " ConnectedSite(site=PeriodicSite: Li (0.0000, 2.7265, 10.8387) [0.2139, 1.2139, 0.2139], jimage=(0, 1, 0), index=3, weight=1, dist=2.8826415952143196),\n",
       " ConnectedSite(site=PeriodicSite: Li (2.3612, 1.3632, 8.9667) [0.7861, 0.7861, -0.2139], jimage=(0, 0, -1), index=4, weight=1, dist=2.88264184569654),\n",
       " ConnectedSite(site=PeriodicSite: Li (-2.3612, 1.3632, 8.9667) [-0.2139, 0.7861, 0.7861], jimage=(-1, 0, 0), index=4, weight=1, dist=2.88264184569654),\n",
       " ConnectedSite(site=PeriodicSite: Li (-2.3612, -1.3632, 10.8387) [0.2139, 0.2139, 1.2139], jimage=(0, 0, 1), index=3, weight=1, dist=2.8826418456965404),\n",
       " ConnectedSite(site=PeriodicSite: Li (2.3612, -1.3632, 10.8387) [1.2139, 0.2139, 0.2139], jimage=(1, 0, 0), index=3, weight=1, dist=2.882641845696541),\n",
       " ConnectedSite(site=PeriodicSite: Li (0.0000, 0.0000, 12.7939) [0.6460, 0.6460, 0.6460], jimage=(0, 0, 0), index=2, weight=1, dist=2.8911803694659994),\n",
       " ConnectedSite(site=PeriodicSite: Li (0.0000, 0.0000, 7.0115) [0.3540, 0.3540, 0.3540], jimage=(0, 0, 0), index=1, weight=1, dist=2.8911803694660003),\n",
       " ConnectedSite(site=PeriodicSite: Sn (-0.0000, -2.7265, 11.7430) [0.9263, -0.0737, 0.9263], jimage=(0, -1, 0), index=6, weight=1, dist=3.2893898337888667),\n",
       " ConnectedSite(site=PeriodicSite: Sn (-0.0000, 2.7265, 8.0625) [0.0737, 1.0737, 0.0737], jimage=(0, 1, 0), index=5, weight=1, dist=3.2893898337888667),\n",
       " ConnectedSite(site=PeriodicSite: Sn (2.3612, -1.3632, 8.0625) [1.0737, 0.0737, 0.0737], jimage=(1, 0, 0), index=5, weight=1, dist=3.289390053297807),\n",
       " ConnectedSite(site=PeriodicSite: Sn (-2.3612, -1.3632, 8.0625) [0.0737, 0.0737, 1.0737], jimage=(0, 0, 1), index=5, weight=1, dist=3.289390053297807),\n",
       " ConnectedSite(site=PeriodicSite: Sn (-2.3612, 1.3632, 11.7430) [-0.0737, 0.9263, 0.9263], jimage=(-1, 0, 0), index=6, weight=1, dist=3.289390053297807),\n",
       " ConnectedSite(site=PeriodicSite: Sn (2.3612, 1.3632, 11.7430) [0.9263, 0.9263, -0.0737], jimage=(0, 0, -1), index=6, weight=1, dist=3.289390053297807)]"
      ]
     },
     "execution_count": 694,
     "metadata": {},
     "output_type": "execute_result"
    }
   ],
   "source": [
    "aw.get_connected_sites(0)"
   ]
  },
  {
   "cell_type": "code",
   "execution_count": 133,
   "metadata": {},
   "outputs": [
    {
     "ename": "SyntaxError",
     "evalue": "invalid syntax (<ipython-input-133-94de09b1a9b0>, line 18)",
     "output_type": "error",
     "traceback": [
      "\u001b[0;36m  File \u001b[0;32m\"<ipython-input-133-94de09b1a9b0>\"\u001b[0;36m, line \u001b[0;32m18\u001b[0m\n\u001b[0;31m    reversals =\u001b[0m\n\u001b[0m                ^\u001b[0m\n\u001b[0;31mSyntaxError\u001b[0m\u001b[0;31m:\u001b[0m invalid syntax\n"
     ]
    }
   ],
   "source": [
    "from itertools import combinations\n",
    "\n",
    "def reverse(image):\n",
    "    r = []\n",
    "    for i in image:\n",
    "        if i == 1:\n",
    "            r.append(1)\n",
    "        elif i == 0:\n",
    "            r.append(2)\n",
    "        else:\n",
    "            r.append(0)\n",
    "    r = tuple(r)\n",
    "    if r == image:\n",
    "        return False\n",
    "    else:\n",
    "        return r\n",
    "    \n",
    "reversals = \n",
    "\n",
    "def calc_dimensionality(list_images, verbose=False):\n",
    "    n_reversed = len([x for x in list_images\n",
    "                      if lookup[x] is not None and lookup[x] in list_images]) / 2\n",
    "    if verbose:\n",
    "        print(\"n_reversed: {}\".format(n_reversed))\n",
    "\n",
    "    if n_reversed > 5:\n",
    "        dimensionality = 3\n",
    "    elif n_reversed > 1:\n",
    "        dimensionality = 2\n",
    "    elif n_reversed == 1:\n",
    "        dimensionality = 1\n",
    "    else:\n",
    "        dimensionality = 0\n",
    "    return dimensionality\n",
    "\n",
    "def get_dimensionality(structure, verbose=False):\n",
    "\n",
    "    sites_to_translate = [i for i, site in enumerate(structure)\n",
    "                          if 0 in site.frac_coords or 1 in site.frac_coords]\n",
    "    structure.translate_sites(sites_to_translate, [1e-8, 1e-8, 1e-8], frac_coords=False)\n",
    "    bonded_struct = cnn.get_bonded_structure(structure)\n",
    "    supercell = bonded_struct * (3, 3, 3)\n",
    "\n",
    "    all_visited_sites = set()\n",
    "    fragments = []\n",
    "    \n",
    "    for i, site in enumerate(supercell.structure):\n",
    "        fragment = []\n",
    "        \n",
    "        def get_connected_sites(site_id):\n",
    "            for site in supercell.get_connected_sites(site_id):\n",
    "                coords = tuple(site.site.coords)\n",
    "                \n",
    "                if (coords not in all_visited_sites and\n",
    "                        site.jimage == (0, 0, 0)):     \n",
    "                    fragment.append(coords)\n",
    "                    all_visited_sites.add(coords)\n",
    "                    get_connected_sites(site.index)\n",
    "\n",
    "        get_connected_sites(i)\n",
    "        \n",
    "        site_images = [get_image(structure.lattice.matrix, site)\n",
    "                       for site in fragment]\n",
    "        \n",
    "        # if the fragment is bonded to the central image, store the fragment\n",
    "        if fragement and any([image == (1, 1, 1) for image in site_images]):\n",
    "            \n",
    "            dimensionality = calc_dimensionality(set(site_images), verbose=verbose)\n",
    "            fragments.append({'atoms': fragment,\n",
    "                              'dimensionality': dimensionality})\n",
    "\n",
    "    dimen = [fragment['dimensionality'] for fragment in fragments]\n",
    "    \n",
    "    if verbose:\n",
    "        n_atoms = [len(fragment['atoms']) for fragment in fragments]\n",
    "        print(\"{} groups of connected sites\".format(len(set_of_visited_sites)))\n",
    "        print(\"the sets have: {} atoms\\nwith dimensionality: {}\".format(n_atoms, dimen))\n",
    "        \n",
    "    return max(dimen)"
   ]
  },
  {
   "cell_type": "code",
   "execution_count": 56,
   "metadata": {},
   "outputs": [
    {
     "data": {
      "text/plain": [
       "array([nan, nan, nan])"
      ]
     },
     "execution_count": 56,
     "metadata": {},
     "output_type": "execute_result"
    }
   ],
   "source": [
    "from pymatgen.core.structure import Structure\n",
    "from pymatgen.core.surface import miller_index_from_sites\n",
    "\n",
    "\n",
    "structure = Structure(\n",
    "    [10, 0, 0, 0, 10, 0, 0, 0, 10],\n",
    "    ['Fe', 'Fe', 'Fe'],\n",
    "    [[0.5, 0.8, 0.8], [0.5, 0.6, 0.6], [0.5, 0.3, 0.3]]\n",
    ")\n",
    "\n",
    "miller_index_from_sites(structure.lattice.matrix, structure.cart_coords)"
   ]
  },
  {
   "cell_type": "code",
   "execution_count": 167,
   "metadata": {},
   "outputs": [
    {
     "name": "stdout",
     "output_type": "stream",
     "text": [
      "[1. 0. 0.]\n",
      "[ 1.000000e-01  0.000000e+00 -6.123234e-18]\n"
     ]
    },
    {
     "data": {
      "text/plain": [
       "array([ 1.000000e+00,  0.000000e+00, -6.123234e-17])"
      ]
     },
     "execution_count": 167,
     "metadata": {},
     "output_type": "execute_result"
    }
   ],
   "source": [
    "import numpy as np\n",
    "from pymatgen.core.surface import get_integer_index\n",
    "\n",
    "def fit_plane_to_points(lattice, points):\n",
    "    points = np.asarray(points)\n",
    "    G = points.sum(axis=0) / points.shape[0]\n",
    "\n",
    "    # run SVD\n",
    "    u, s, vh = np.linalg.svd(points - G)\n",
    "\n",
    "    # unitary normal vector\n",
    "    u_norm = vh[2, :]\n",
    "    print(u_norm)\n",
    "    return cart_vector_to_lattice_vector(lattice, u_norm)\n",
    "\n",
    "def cart_vector_to_lattice_vector(lattice, vector):\n",
    "    M = np.array([\n",
    "        [lattice.a * np.sin(np.deg2rad(lattice.beta)), lattice.b * np.sin(np.deg2rad(lattice.alpha)) * np.cos(np.deg2rad(lattice.gamma)), 0],\n",
    "        [0, lattice.b * np.sin(np.deg2rad(lattice.alpha)) * np.sin(np.deg2rad(lattice.gamma)), 0],\n",
    "        [lattice.a * np.cos(np.deg2rad(lattice.beta)), lattice.b * np.cos(np.deg2rad(lattice.alpha)), lattice.c]\n",
    "    ])\n",
    "    vec = np.dot(np.linalg.inv(M), vector)\n",
    "    print(vec)\n",
    "    return get_integer_index(vec)\n",
    "    \n",
    "fit_plane_to_points(structure.lattice, structure.cart_coords)"
   ]
  },
  {
   "cell_type": "code",
   "execution_count": 171,
   "metadata": {},
   "outputs": [
    {
     "name": "stdout",
     "output_type": "stream",
     "text": [
      "[0.4394625  0.29962028 0.84681781]\n",
      "[0.00974918 0.01798719 0.01457038]\n"
     ]
    },
    {
     "name": "stderr",
     "output_type": "stream",
     "text": [
      "/Users/alexganose/dev/pymatgen/pymatgen/core/surface.py:1693: RuntimeWarning:\n",
      "\n",
      "divide by zero encountered in true_divide\n",
      "\n"
     ]
    },
    {
     "data": {
      "text/plain": [
       "array([inf, inf, inf])"
      ]
     },
     "execution_count": 171,
     "metadata": {},
     "output_type": "execute_result"
    }
   ],
   "source": [
    "fit_plane_to_points((bi * (3, 3, 3)).lattice, [list(x) for x in fragments[0]['atoms']])"
   ]
  },
  {
   "cell_type": "code",
   "execution_count": 164,
   "metadata": {},
   "outputs": [
    {
     "data": {
      "text/plain": [
       "52"
      ]
     },
     "execution_count": 164,
     "metadata": {},
     "output_type": "execute_result"
    }
   ],
   "source": [
    "len([list(x) for x in fragments[0]['atoms']])"
   ]
  },
  {
   "cell_type": "code",
   "execution_count": 81,
   "metadata": {},
   "outputs": [
    {
     "data": {
      "text/plain": [
       "10.0"
      ]
     },
     "execution_count": 81,
     "metadata": {},
     "output_type": "execute_result"
    }
   ],
   "source": [
    "1e+1"
   ]
  },
  {
   "cell_type": "code",
   "execution_count": 46,
   "metadata": {},
   "outputs": [
    {
     "name": "stdout",
     "output_type": "stream",
     "text": [
      "Solve:  [1.94731868e-17 7.81898595e-01 6.23405636e-01]\n",
      "Optim:  [ 0.19638504  0.00175585 -0.98052528]\n",
      "SVD:    [ 1.00000000e+00 -3.05898024e-16 -2.67948900e-16]\n",
      "LTSQ:   [ 0.10150853  0.66204204 -0.74256067]\n"
     ]
    },
    {
     "name": "stderr",
     "output_type": "stream",
     "text": [
      "/Users/alexganose/miniconda3/envs/common_env3/lib/python3.6/site-packages/ipykernel_launcher.py:15: FutureWarning: `rcond` parameter will change to the default of machine precision times ``max(M, N)`` where M and N are the input matrix dimensions.\n",
      "To use the future default and silence this warning we advise to pass `rcond=None`, to keep using the old, explicitly pass `rcond=-1`.\n",
      "  from ipykernel import kernelapp as app\n"
     ]
    },
    {
     "ename": "ValueError",
     "evalue": "not enough values to unpack (expected 3, got 1)",
     "output_type": "error",
     "traceback": [
      "\u001b[0;31m---------------------------------------------------------------------------\u001b[0m",
      "\u001b[0;31mValueError\u001b[0m                                Traceback (most recent call last)",
      "\u001b[0;32m<ipython-input-46-838088632e37>\u001b[0m in \u001b[0;36m<module>\u001b[0;34m\u001b[0m\n\u001b[1;32m     94\u001b[0m \u001b[0mprint\u001b[0m\u001b[0;34m(\u001b[0m\u001b[0;34m\"SVD:   \"\u001b[0m\u001b[0;34m,\u001b[0m\u001b[0mfitPlaneSVD\u001b[0m\u001b[0;34m(\u001b[0m\u001b[0mstructure\u001b[0m\u001b[0;34m.\u001b[0m\u001b[0mcart_coords\u001b[0m\u001b[0;34m)\u001b[0m\u001b[0;34m)\u001b[0m\u001b[0;34m\u001b[0m\u001b[0m\n\u001b[1;32m     95\u001b[0m \u001b[0mprint\u001b[0m\u001b[0;34m(\u001b[0m\u001b[0;34m\"LTSQ:  \"\u001b[0m\u001b[0;34m,\u001b[0m\u001b[0mfitPLaneLTSQ\u001b[0m\u001b[0;34m(\u001b[0m\u001b[0mstructure\u001b[0m\u001b[0;34m.\u001b[0m\u001b[0mcart_coords\u001b[0m\u001b[0;34m)\u001b[0m\u001b[0;34m)\u001b[0m\u001b[0;34m\u001b[0m\u001b[0m\n\u001b[0;32m---> 96\u001b[0;31m \u001b[0mprint\u001b[0m\u001b[0;34m(\u001b[0m\u001b[0;34m\"Eigen: \"\u001b[0m\u001b[0;34m,\u001b[0m\u001b[0mfitPlaneEigen\u001b[0m\u001b[0;34m(\u001b[0m\u001b[0mstructure\u001b[0m\u001b[0;34m.\u001b[0m\u001b[0mcart_coords\u001b[0m\u001b[0;34m)\u001b[0m\u001b[0;34m)\u001b[0m\u001b[0;34m\u001b[0m\u001b[0m\n\u001b[0m",
      "\u001b[0;32m<ipython-input-46-838088632e37>\u001b[0m in \u001b[0;36mfitPlaneEigen\u001b[0;34m(XYZ)\u001b[0m\n\u001b[1;32m     40\u001b[0m     \u001b[0meigenvalues\u001b[0m\u001b[0;34m,\u001b[0m\u001b[0meigenvectors\u001b[0m \u001b[0;34m=\u001b[0m \u001b[0mnp\u001b[0m\u001b[0;34m.\u001b[0m\u001b[0mlinalg\u001b[0m\u001b[0;34m.\u001b[0m\u001b[0meig\u001b[0m\u001b[0;34m(\u001b[0m\u001b[0mcovariant\u001b[0m\u001b[0;34m)\u001b[0m\u001b[0;34m\u001b[0m\u001b[0m\n\u001b[1;32m     41\u001b[0m     \u001b[0mwant_max\u001b[0m \u001b[0;34m=\u001b[0m \u001b[0meigenvectors\u001b[0m\u001b[0;34m[\u001b[0m\u001b[0;34m:\u001b[0m\u001b[0;34m,\u001b[0m\u001b[0meigenvalues\u001b[0m\u001b[0;34m.\u001b[0m\u001b[0margmax\u001b[0m\u001b[0;34m(\u001b[0m\u001b[0;34m)\u001b[0m\u001b[0;34m]\u001b[0m\u001b[0;34m\u001b[0m\u001b[0m\n\u001b[0;32m---> 42\u001b[0;31m     \u001b[0;34m(\u001b[0m\u001b[0mc\u001b[0m\u001b[0;34m,\u001b[0m\u001b[0ma\u001b[0m\u001b[0;34m,\u001b[0m\u001b[0mb\u001b[0m\u001b[0;34m)\u001b[0m \u001b[0;34m=\u001b[0m \u001b[0mwant_max\u001b[0m\u001b[0;34m[\u001b[0m\u001b[0;36m3\u001b[0m\u001b[0;34m:\u001b[0m\u001b[0;36m6\u001b[0m\u001b[0;34m]\u001b[0m    \u001b[0;31m# Do not understand! Why 3:6? Why (c,a,b)?\u001b[0m\u001b[0;34m\u001b[0m\u001b[0m\n\u001b[0m\u001b[1;32m     43\u001b[0m     \u001b[0mnormal\u001b[0m \u001b[0;34m=\u001b[0m \u001b[0mnp\u001b[0m\u001b[0;34m.\u001b[0m\u001b[0marray\u001b[0m\u001b[0;34m(\u001b[0m\u001b[0;34m[\u001b[0m\u001b[0ma\u001b[0m\u001b[0;34m,\u001b[0m\u001b[0mb\u001b[0m\u001b[0;34m,\u001b[0m\u001b[0mc\u001b[0m\u001b[0;34m]\u001b[0m\u001b[0;34m)\u001b[0m\u001b[0;34m\u001b[0m\u001b[0m\n\u001b[1;32m     44\u001b[0m     \u001b[0mnn\u001b[0m \u001b[0;34m=\u001b[0m \u001b[0mnp\u001b[0m\u001b[0;34m.\u001b[0m\u001b[0mlinalg\u001b[0m\u001b[0;34m.\u001b[0m\u001b[0mnorm\u001b[0m\u001b[0;34m(\u001b[0m\u001b[0mnormal\u001b[0m\u001b[0;34m)\u001b[0m\u001b[0;34m\u001b[0m\u001b[0m\n",
      "\u001b[0;31mValueError\u001b[0m: not enough values to unpack (expected 3, got 1)"
     ]
    }
   ],
   "source": [
    "import numpy as np\n",
    "import scipy.optimize\n",
    "\n",
    "def fitPLaneLTSQ(XYZ):\n",
    "    # Fits a plane to a point cloud, \n",
    "    # Where Z = aX + bY + c        ----Eqn #1\n",
    "    # Rearanging Eqn1: aX + bY -Z +c =0\n",
    "    # Gives normal (a,b,-1)\n",
    "    # Normal = (a,b,-1)\n",
    "    [rows,cols] = XYZ.shape\n",
    "    G = np.ones((rows,3))\n",
    "    G[:,0] = XYZ[:,0]  #X\n",
    "    G[:,1] = XYZ[:,1]  #Y\n",
    "    Z = XYZ[:,2]\n",
    "    (a,b,c),resid,rank,s = np.linalg.lstsq(G,Z) \n",
    "    normal = (a,b,-1)\n",
    "    nn = np.linalg.norm(normal)\n",
    "    normal = normal / nn\n",
    "    return normal\n",
    "\n",
    "\n",
    "def fitPlaneSVD(XYZ):\n",
    "    [rows,cols] = XYZ.shape\n",
    "    # Set up constraint equations of the form  AB = 0,\n",
    "    # where B is a column vector of the plane coefficients\n",
    "    # in the form b(1)*X + b(2)*Y +b(3)*Z + b(4) = 0.\n",
    "    p = (np.ones((rows,1)))\n",
    "    AB = np.hstack([XYZ,p])\n",
    "    [u, d, v] = np.linalg.svd(AB,0)        \n",
    "    B = v[3,:];                    # Solution is last column of v.\n",
    "    nn = np.linalg.norm(B[0:3])\n",
    "    B = B / nn\n",
    "    return B[0:3]\n",
    "\n",
    "\n",
    "def fitPlaneEigen(XYZ):\n",
    "    # Works, in this case but don't understand!\n",
    "    average=sum(XYZ)/XYZ.shape[0]\n",
    "    covariant=np.cov(XYZ - average)\n",
    "    eigenvalues,eigenvectors = np.linalg.eig(covariant)\n",
    "    want_max = eigenvectors[:,eigenvalues.argmax()]\n",
    "    (c,a,b) = want_max[3:6]    # Do not understand! Why 3:6? Why (c,a,b)?\n",
    "    normal = np.array([a,b,c])\n",
    "    nn = np.linalg.norm(normal)\n",
    "    return normal / nn  \n",
    "\n",
    "def fitPlaneSolve(XYZ):\n",
    "    X = XYZ[:,0]\n",
    "    Y = XYZ[:,1]\n",
    "    Z = XYZ[:,2] \n",
    "    npts = len(X)\n",
    "    A = np.array([ [sum(X*X), sum(X*Y), sum(X)],\n",
    "                   [sum(X*Y), sum(Y*Y), sum(Y)],\n",
    "                   [sum(X),   sum(Y), npts] ])\n",
    "    B = np.array([ [sum(X*Z), sum(Y*Z), sum(Z)] ])\n",
    "    normal = np.linalg.solve(A,B.T)\n",
    "    nn = np.linalg.norm(normal)\n",
    "    normal = normal / nn\n",
    "    return normal.ravel()\n",
    "\n",
    "def fitPlaneOptimize(XYZ):\n",
    "    def residiuals(parameter,f,x,y):\n",
    "        return [(f[i] - model(parameter,x[i],y[i])) for i in range(len(f))]\n",
    "\n",
    "\n",
    "    def model(parameter, x, y):\n",
    "        a, b, c = parameter\n",
    "        return a*x + b*y + c\n",
    "\n",
    "    X = XYZ[:,0]\n",
    "    Y = XYZ[:,1]\n",
    "    Z = XYZ[:,2]\n",
    "    p0 = [1., 1.,1.] # initial guess\n",
    "    result = scipy.optimize.leastsq(residiuals, p0, args=(Z,X,Y))[0]\n",
    "    normal = result[0:3]\n",
    "    nn = np.linalg.norm(normal)\n",
    "    normal = normal / nn\n",
    "    return normal\n",
    "\n",
    "\n",
    "XYZ = np.array([\n",
    "    [0,0,1],\n",
    "    [0,1,2],\n",
    "    [0,2,3],\n",
    "    [1,0,1],\n",
    "#     [1,1,2],\n",
    "#     [1,2,3],\n",
    "#     [2,0,1],\n",
    "#     [2,1,2],\n",
    "#     [2,2,3]\n",
    "    ])\n",
    "print(\"Solve: \", fitPlaneSolve(structure.cart_coords))\n",
    "print(\"Optim: \",fitPlaneOptimize(structure.cart_coords))\n",
    "print(\"SVD:   \",fitPlaneSVD(structure.cart_coords))\n",
    "print(\"LTSQ:  \",fitPLaneLTSQ(structure.cart_coords))\n",
    "print(\"Eigen: \",fitPlaneEigen(structure.cart_coords))"
   ]
  },
  {
   "cell_type": "code",
   "execution_count": 33,
   "metadata": {},
   "outputs": [
    {
     "data": {
      "text/plain": [
       "array([[0, 0, 1],\n",
       "       [0, 1, 2],\n",
       "       [0, 2, 3],\n",
       "       [1, 0, 1],\n",
       "       [1, 1, 2],\n",
       "       [1, 2, 3],\n",
       "       [2, 0, 1],\n",
       "       [2, 1, 2],\n",
       "       [2, 2, 3]])"
      ]
     },
     "execution_count": 33,
     "metadata": {},
     "output_type": "execute_result"
    }
   ],
   "source": [
    "fit_plane_to_points("
   ]
  },
  {
   "cell_type": "code",
   "execution_count": 47,
   "metadata": {},
   "outputs": [],
   "source": [
    "site = structure[0]"
   ]
  },
  {
   "cell_type": "code",
   "execution_count": 50,
   "metadata": {},
   "outputs": [
    {
     "ename": "TypeError",
     "evalue": "d_hkl() missing 1 required positional argument: 'miller_index'",
     "output_type": "error",
     "traceback": [
      "\u001b[0;31m---------------------------------------------------------------------------\u001b[0m",
      "\u001b[0;31mTypeError\u001b[0m                                 Traceback (most recent call last)",
      "\u001b[0;32m<ipython-input-50-f9a9dd5c0e71>\u001b[0m in \u001b[0;36m<module>\u001b[0;34m\u001b[0m\n\u001b[0;32m----> 1\u001b[0;31m \u001b[0mstructure\u001b[0m\u001b[0;34m.\u001b[0m\u001b[0mlattice\u001b[0m\u001b[0;34m.\u001b[0m\u001b[0md_hkl\u001b[0m\u001b[0;34m(\u001b[0m\u001b[0;34m)\u001b[0m\u001b[0;34m\u001b[0m\u001b[0m\n\u001b[0m",
      "\u001b[0;31mTypeError\u001b[0m: d_hkl() missing 1 required positional argument: 'miller_index'"
     ]
    }
   ],
   "source": [
    "structure.lattice."
   ]
  },
  {
   "cell_type": "code",
   "execution_count": null,
   "metadata": {},
   "outputs": [],
   "source": []
  }
 ],
 "metadata": {
  "kernelspec": {
   "display_name": "Python 3",
   "language": "python",
   "name": "python3"
  },
  "language_info": {
   "codemirror_mode": {
    "name": "ipython",
    "version": 3
   },
   "file_extension": ".py",
   "mimetype": "text/x-python",
   "name": "python",
   "nbconvert_exporter": "python",
   "pygments_lexer": "ipython3",
   "version": "3.6.6"
  }
 },
 "nbformat": 4,
 "nbformat_minor": 2
}
